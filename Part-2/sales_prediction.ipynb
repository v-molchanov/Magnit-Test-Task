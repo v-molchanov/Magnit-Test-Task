{
 "cells": [
  {
   "cell_type": "code",
   "execution_count": 1,
   "metadata": {},
   "outputs": [],
   "source": [
    "import pandas as pd\n",
    "import numpy as np\n",
    "import seaborn as sns\n",
    "import matplotlib.pylab as plt\n",
    "from pylab import rcParams\n",
    "rcParams['figure.figsize'] = 15, 7\n",
    "\n",
    "from sklearn.preprocessing import LabelEncoder\n",
    "\n",
    "from sklearn.tree import DecisionTreeRegressor\n",
    "from sklearn.ensemble import RandomForestRegressor\n",
    "import xgboost as xgb"
   ]
  },
  {
   "cell_type": "code",
   "execution_count": 2,
   "metadata": {},
   "outputs": [],
   "source": [
    "data = pd.read_csv('data_regression_for_task.csv')"
   ]
  },
  {
   "cell_type": "code",
   "execution_count": 3,
   "metadata": {},
   "outputs": [
    {
     "data": {
      "text/html": [
       "<div>\n",
       "<style scoped>\n",
       "    .dataframe tbody tr th:only-of-type {\n",
       "        vertical-align: middle;\n",
       "    }\n",
       "\n",
       "    .dataframe tbody tr th {\n",
       "        vertical-align: top;\n",
       "    }\n",
       "\n",
       "    .dataframe thead th {\n",
       "        text-align: right;\n",
       "    }\n",
       "</style>\n",
       "<table border=\"1\" class=\"dataframe\">\n",
       "  <thead>\n",
       "    <tr style=\"text-align: right;\">\n",
       "      <th></th>\n",
       "      <th>YEAR</th>\n",
       "      <th>MONTH</th>\n",
       "      <th>CONTRAGENT</th>\n",
       "      <th>ARTICLE_CODE</th>\n",
       "      <th>ARTICLE_NAME</th>\n",
       "      <th>ARTICLE_GROUP</th>\n",
       "      <th>SALES</th>\n",
       "      <th>STORE_SALES</th>\n",
       "    </tr>\n",
       "  </thead>\n",
       "  <tbody>\n",
       "    <tr>\n",
       "      <th>0</th>\n",
       "      <td>2017</td>\n",
       "      <td>4</td>\n",
       "      <td>ROYAL WINE CORP</td>\n",
       "      <td>100200</td>\n",
       "      <td>GAMLA CAB - 750ML</td>\n",
       "      <td>WINE</td>\n",
       "      <td>0.0</td>\n",
       "      <td>0.0</td>\n",
       "    </tr>\n",
       "    <tr>\n",
       "      <th>1</th>\n",
       "      <td>2017</td>\n",
       "      <td>4</td>\n",
       "      <td>SANTA MARGHERITA USA INC</td>\n",
       "      <td>100749</td>\n",
       "      <td>SANTA MARGHERITA P/GRIG ALTO - 375ML</td>\n",
       "      <td>WINE</td>\n",
       "      <td>0.0</td>\n",
       "      <td>0.0</td>\n",
       "    </tr>\n",
       "    <tr>\n",
       "      <th>2</th>\n",
       "      <td>2017</td>\n",
       "      <td>4</td>\n",
       "      <td>JIM BEAM BRANDS CO</td>\n",
       "      <td>10103</td>\n",
       "      <td>KNOB CREEK BOURBON 9YR - 100P - 375ML</td>\n",
       "      <td>LIQUOR</td>\n",
       "      <td>0.0</td>\n",
       "      <td>0.0</td>\n",
       "    </tr>\n",
       "    <tr>\n",
       "      <th>3</th>\n",
       "      <td>2017</td>\n",
       "      <td>4</td>\n",
       "      <td>HEAVEN HILL DISTILLERIES INC</td>\n",
       "      <td>10120</td>\n",
       "      <td>J W DANT BOURBON 100P - 1.75L</td>\n",
       "      <td>LIQUOR</td>\n",
       "      <td>0.0</td>\n",
       "      <td>0.0</td>\n",
       "    </tr>\n",
       "    <tr>\n",
       "      <th>4</th>\n",
       "      <td>2017</td>\n",
       "      <td>4</td>\n",
       "      <td>ROYAL WINE CORP</td>\n",
       "      <td>101664</td>\n",
       "      <td>RAMON CORDOVA RIOJA - 750ML</td>\n",
       "      <td>WINE</td>\n",
       "      <td>0.0</td>\n",
       "      <td>0.0</td>\n",
       "    </tr>\n",
       "    <tr>\n",
       "      <th>...</th>\n",
       "      <td>...</td>\n",
       "      <td>...</td>\n",
       "      <td>...</td>\n",
       "      <td>...</td>\n",
       "      <td>...</td>\n",
       "      <td>...</td>\n",
       "      <td>...</td>\n",
       "      <td>...</td>\n",
       "    </tr>\n",
       "    <tr>\n",
       "      <th>128350</th>\n",
       "      <td>2018</td>\n",
       "      <td>2</td>\n",
       "      <td>ANHEUSER BUSCH INC</td>\n",
       "      <td>9997</td>\n",
       "      <td>HOEGAARDEN 4/6NR - 12OZ</td>\n",
       "      <td>BEER</td>\n",
       "      <td>66460.0</td>\n",
       "      <td>212.0</td>\n",
       "    </tr>\n",
       "    <tr>\n",
       "      <th>128351</th>\n",
       "      <td>2018</td>\n",
       "      <td>2</td>\n",
       "      <td>COASTAL BREWING COMPANY LLC</td>\n",
       "      <td>99970</td>\n",
       "      <td>DOMINION OAK BARREL STOUT 4/6 NR - 12OZ</td>\n",
       "      <td>BEER</td>\n",
       "      <td>9080.0</td>\n",
       "      <td>35.0</td>\n",
       "    </tr>\n",
       "    <tr>\n",
       "      <th>128352</th>\n",
       "      <td>2018</td>\n",
       "      <td>2</td>\n",
       "      <td>BOSTON BEER CORPORATION</td>\n",
       "      <td>99988</td>\n",
       "      <td>SAM ADAMS COLD SNAP 1/6 KG</td>\n",
       "      <td>KEGS</td>\n",
       "      <td>0.0</td>\n",
       "      <td>32.0</td>\n",
       "    </tr>\n",
       "    <tr>\n",
       "      <th>128353</th>\n",
       "      <td>2018</td>\n",
       "      <td>2</td>\n",
       "      <td>NaN</td>\n",
       "      <td>BC</td>\n",
       "      <td>BEER CREDIT</td>\n",
       "      <td>REF</td>\n",
       "      <td>0.0</td>\n",
       "      <td>-35.0</td>\n",
       "    </tr>\n",
       "    <tr>\n",
       "      <th>128354</th>\n",
       "      <td>2018</td>\n",
       "      <td>2</td>\n",
       "      <td>NaN</td>\n",
       "      <td>WC</td>\n",
       "      <td>WINE CREDIT</td>\n",
       "      <td>REF</td>\n",
       "      <td>0.0</td>\n",
       "      <td>-81.0</td>\n",
       "    </tr>\n",
       "  </tbody>\n",
       "</table>\n",
       "<p>128355 rows × 8 columns</p>\n",
       "</div>"
      ],
      "text/plain": [
       "        YEAR  MONTH                    CONTRAGENT ARTICLE_CODE  \\\n",
       "0       2017      4               ROYAL WINE CORP       100200   \n",
       "1       2017      4      SANTA MARGHERITA USA INC       100749   \n",
       "2       2017      4            JIM BEAM BRANDS CO        10103   \n",
       "3       2017      4  HEAVEN HILL DISTILLERIES INC        10120   \n",
       "4       2017      4               ROYAL WINE CORP       101664   \n",
       "...      ...    ...                           ...          ...   \n",
       "128350  2018      2            ANHEUSER BUSCH INC         9997   \n",
       "128351  2018      2   COASTAL BREWING COMPANY LLC        99970   \n",
       "128352  2018      2       BOSTON BEER CORPORATION        99988   \n",
       "128353  2018      2                           NaN           BC   \n",
       "128354  2018      2                           NaN           WC   \n",
       "\n",
       "                                   ARTICLE_NAME ARTICLE_GROUP    SALES  \\\n",
       "0                             GAMLA CAB - 750ML          WINE      0.0   \n",
       "1          SANTA MARGHERITA P/GRIG ALTO - 375ML          WINE      0.0   \n",
       "2         KNOB CREEK BOURBON 9YR - 100P - 375ML        LIQUOR      0.0   \n",
       "3                 J W DANT BOURBON 100P - 1.75L        LIQUOR      0.0   \n",
       "4                   RAMON CORDOVA RIOJA - 750ML          WINE      0.0   \n",
       "...                                         ...           ...      ...   \n",
       "128350                  HOEGAARDEN 4/6NR - 12OZ          BEER  66460.0   \n",
       "128351  DOMINION OAK BARREL STOUT 4/6 NR - 12OZ          BEER   9080.0   \n",
       "128352               SAM ADAMS COLD SNAP 1/6 KG          KEGS      0.0   \n",
       "128353                              BEER CREDIT           REF      0.0   \n",
       "128354                              WINE CREDIT           REF      0.0   \n",
       "\n",
       "        STORE_SALES  \n",
       "0               0.0  \n",
       "1               0.0  \n",
       "2               0.0  \n",
       "3               0.0  \n",
       "4               0.0  \n",
       "...             ...  \n",
       "128350        212.0  \n",
       "128351         35.0  \n",
       "128352         32.0  \n",
       "128353        -35.0  \n",
       "128354        -81.0  \n",
       "\n",
       "[128355 rows x 8 columns]"
      ]
     },
     "execution_count": 3,
     "metadata": {},
     "output_type": "execute_result"
    }
   ],
   "source": [
    "data"
   ]
  },
  {
   "cell_type": "code",
   "execution_count": 4,
   "metadata": {},
   "outputs": [
    {
     "name": "stdout",
     "output_type": "stream",
     "text": [
      "<class 'pandas.core.frame.DataFrame'>\n",
      "RangeIndex: 128355 entries, 0 to 128354\n",
      "Data columns (total 8 columns):\n",
      " #   Column         Non-Null Count   Dtype  \n",
      "---  ------         --------------   -----  \n",
      " 0   YEAR           128355 non-null  int64  \n",
      " 1   MONTH          128355 non-null  int64  \n",
      " 2   CONTRAGENT     128331 non-null  object \n",
      " 3   ARTICLE_CODE   128355 non-null  object \n",
      " 4   ARTICLE_NAME   128355 non-null  object \n",
      " 5   ARTICLE_GROUP  128354 non-null  object \n",
      " 6   SALES          128355 non-null  float64\n",
      " 7   STORE_SALES    128355 non-null  float64\n",
      "dtypes: float64(2), int64(2), object(4)\n",
      "memory usage: 7.8+ MB\n"
     ]
    }
   ],
   "source": [
    "data.info()"
   ]
  },
  {
   "cell_type": "code",
   "execution_count": 5,
   "metadata": {},
   "outputs": [],
   "source": [
    "data['CONTRAGENT'].replace(np.nan, 'NO_CONTRAGENT', inplace=True)\n",
    "data['ARTICLE_GROUP'].replace(np.nan, 'NO_GROUP', inplace=True)"
   ]
  },
  {
   "cell_type": "code",
   "execution_count": 6,
   "metadata": {
    "scrolled": false
   },
   "outputs": [
    {
     "name": "stdout",
     "output_type": "stream",
     "text": [
      "<class 'pandas.core.frame.DataFrame'>\n",
      "RangeIndex: 128355 entries, 0 to 128354\n",
      "Data columns (total 8 columns):\n",
      " #   Column         Non-Null Count   Dtype  \n",
      "---  ------         --------------   -----  \n",
      " 0   YEAR           128355 non-null  int64  \n",
      " 1   MONTH          128355 non-null  int64  \n",
      " 2   CONTRAGENT     128355 non-null  object \n",
      " 3   ARTICLE_CODE   128355 non-null  object \n",
      " 4   ARTICLE_NAME   128355 non-null  object \n",
      " 5   ARTICLE_GROUP  128355 non-null  object \n",
      " 6   SALES          128355 non-null  float64\n",
      " 7   STORE_SALES    128355 non-null  float64\n",
      "dtypes: float64(2), int64(2), object(4)\n",
      "memory usage: 7.8+ MB\n"
     ]
    }
   ],
   "source": [
    "data.info()"
   ]
  },
  {
   "cell_type": "code",
   "execution_count": 7,
   "metadata": {},
   "outputs": [],
   "source": [
    "data.sort_values(by=['YEAR', 'MONTH'], inplace=True)"
   ]
  },
  {
   "cell_type": "code",
   "execution_count": 8,
   "metadata": {
    "scrolled": false
   },
   "outputs": [
    {
     "data": {
      "text/html": [
       "<div>\n",
       "<style scoped>\n",
       "    .dataframe tbody tr th:only-of-type {\n",
       "        vertical-align: middle;\n",
       "    }\n",
       "\n",
       "    .dataframe tbody tr th {\n",
       "        vertical-align: top;\n",
       "    }\n",
       "\n",
       "    .dataframe thead th {\n",
       "        text-align: right;\n",
       "    }\n",
       "</style>\n",
       "<table border=\"1\" class=\"dataframe\">\n",
       "  <thead>\n",
       "    <tr style=\"text-align: right;\">\n",
       "      <th></th>\n",
       "      <th>YEAR</th>\n",
       "      <th>MONTH</th>\n",
       "      <th>CONTRAGENT</th>\n",
       "      <th>ARTICLE_CODE</th>\n",
       "      <th>ARTICLE_NAME</th>\n",
       "      <th>ARTICLE_GROUP</th>\n",
       "      <th>SALES</th>\n",
       "      <th>STORE_SALES</th>\n",
       "    </tr>\n",
       "  </thead>\n",
       "  <tbody>\n",
       "    <tr>\n",
       "      <th>0</th>\n",
       "      <td>2017</td>\n",
       "      <td>4</td>\n",
       "      <td>ROYAL WINE CORP</td>\n",
       "      <td>100200</td>\n",
       "      <td>GAMLA CAB - 750ML</td>\n",
       "      <td>WINE</td>\n",
       "      <td>0.0</td>\n",
       "      <td>0.0</td>\n",
       "    </tr>\n",
       "    <tr>\n",
       "      <th>1</th>\n",
       "      <td>2017</td>\n",
       "      <td>4</td>\n",
       "      <td>SANTA MARGHERITA USA INC</td>\n",
       "      <td>100749</td>\n",
       "      <td>SANTA MARGHERITA P/GRIG ALTO - 375ML</td>\n",
       "      <td>WINE</td>\n",
       "      <td>0.0</td>\n",
       "      <td>0.0</td>\n",
       "    </tr>\n",
       "    <tr>\n",
       "      <th>2</th>\n",
       "      <td>2017</td>\n",
       "      <td>4</td>\n",
       "      <td>JIM BEAM BRANDS CO</td>\n",
       "      <td>10103</td>\n",
       "      <td>KNOB CREEK BOURBON 9YR - 100P - 375ML</td>\n",
       "      <td>LIQUOR</td>\n",
       "      <td>0.0</td>\n",
       "      <td>0.0</td>\n",
       "    </tr>\n",
       "    <tr>\n",
       "      <th>3</th>\n",
       "      <td>2017</td>\n",
       "      <td>4</td>\n",
       "      <td>HEAVEN HILL DISTILLERIES INC</td>\n",
       "      <td>10120</td>\n",
       "      <td>J W DANT BOURBON 100P - 1.75L</td>\n",
       "      <td>LIQUOR</td>\n",
       "      <td>0.0</td>\n",
       "      <td>0.0</td>\n",
       "    </tr>\n",
       "    <tr>\n",
       "      <th>4</th>\n",
       "      <td>2017</td>\n",
       "      <td>4</td>\n",
       "      <td>ROYAL WINE CORP</td>\n",
       "      <td>101664</td>\n",
       "      <td>RAMON CORDOVA RIOJA - 750ML</td>\n",
       "      <td>WINE</td>\n",
       "      <td>0.0</td>\n",
       "      <td>0.0</td>\n",
       "    </tr>\n",
       "    <tr>\n",
       "      <th>...</th>\n",
       "      <td>...</td>\n",
       "      <td>...</td>\n",
       "      <td>...</td>\n",
       "      <td>...</td>\n",
       "      <td>...</td>\n",
       "      <td>...</td>\n",
       "      <td>...</td>\n",
       "      <td>...</td>\n",
       "    </tr>\n",
       "    <tr>\n",
       "      <th>128350</th>\n",
       "      <td>2018</td>\n",
       "      <td>2</td>\n",
       "      <td>ANHEUSER BUSCH INC</td>\n",
       "      <td>9997</td>\n",
       "      <td>HOEGAARDEN 4/6NR - 12OZ</td>\n",
       "      <td>BEER</td>\n",
       "      <td>66460.0</td>\n",
       "      <td>212.0</td>\n",
       "    </tr>\n",
       "    <tr>\n",
       "      <th>128351</th>\n",
       "      <td>2018</td>\n",
       "      <td>2</td>\n",
       "      <td>COASTAL BREWING COMPANY LLC</td>\n",
       "      <td>99970</td>\n",
       "      <td>DOMINION OAK BARREL STOUT 4/6 NR - 12OZ</td>\n",
       "      <td>BEER</td>\n",
       "      <td>9080.0</td>\n",
       "      <td>35.0</td>\n",
       "    </tr>\n",
       "    <tr>\n",
       "      <th>128352</th>\n",
       "      <td>2018</td>\n",
       "      <td>2</td>\n",
       "      <td>BOSTON BEER CORPORATION</td>\n",
       "      <td>99988</td>\n",
       "      <td>SAM ADAMS COLD SNAP 1/6 KG</td>\n",
       "      <td>KEGS</td>\n",
       "      <td>0.0</td>\n",
       "      <td>32.0</td>\n",
       "    </tr>\n",
       "    <tr>\n",
       "      <th>128353</th>\n",
       "      <td>2018</td>\n",
       "      <td>2</td>\n",
       "      <td>NO_CONTRAGENT</td>\n",
       "      <td>BC</td>\n",
       "      <td>BEER CREDIT</td>\n",
       "      <td>REF</td>\n",
       "      <td>0.0</td>\n",
       "      <td>-35.0</td>\n",
       "    </tr>\n",
       "    <tr>\n",
       "      <th>128354</th>\n",
       "      <td>2018</td>\n",
       "      <td>2</td>\n",
       "      <td>NO_CONTRAGENT</td>\n",
       "      <td>WC</td>\n",
       "      <td>WINE CREDIT</td>\n",
       "      <td>REF</td>\n",
       "      <td>0.0</td>\n",
       "      <td>-81.0</td>\n",
       "    </tr>\n",
       "  </tbody>\n",
       "</table>\n",
       "<p>128355 rows × 8 columns</p>\n",
       "</div>"
      ],
      "text/plain": [
       "        YEAR  MONTH                    CONTRAGENT ARTICLE_CODE  \\\n",
       "0       2017      4               ROYAL WINE CORP       100200   \n",
       "1       2017      4      SANTA MARGHERITA USA INC       100749   \n",
       "2       2017      4            JIM BEAM BRANDS CO        10103   \n",
       "3       2017      4  HEAVEN HILL DISTILLERIES INC        10120   \n",
       "4       2017      4               ROYAL WINE CORP       101664   \n",
       "...      ...    ...                           ...          ...   \n",
       "128350  2018      2            ANHEUSER BUSCH INC         9997   \n",
       "128351  2018      2   COASTAL BREWING COMPANY LLC        99970   \n",
       "128352  2018      2       BOSTON BEER CORPORATION        99988   \n",
       "128353  2018      2                 NO_CONTRAGENT           BC   \n",
       "128354  2018      2                 NO_CONTRAGENT           WC   \n",
       "\n",
       "                                   ARTICLE_NAME ARTICLE_GROUP    SALES  \\\n",
       "0                             GAMLA CAB - 750ML          WINE      0.0   \n",
       "1          SANTA MARGHERITA P/GRIG ALTO - 375ML          WINE      0.0   \n",
       "2         KNOB CREEK BOURBON 9YR - 100P - 375ML        LIQUOR      0.0   \n",
       "3                 J W DANT BOURBON 100P - 1.75L        LIQUOR      0.0   \n",
       "4                   RAMON CORDOVA RIOJA - 750ML          WINE      0.0   \n",
       "...                                         ...           ...      ...   \n",
       "128350                  HOEGAARDEN 4/6NR - 12OZ          BEER  66460.0   \n",
       "128351  DOMINION OAK BARREL STOUT 4/6 NR - 12OZ          BEER   9080.0   \n",
       "128352               SAM ADAMS COLD SNAP 1/6 KG          KEGS      0.0   \n",
       "128353                              BEER CREDIT           REF      0.0   \n",
       "128354                              WINE CREDIT           REF      0.0   \n",
       "\n",
       "        STORE_SALES  \n",
       "0               0.0  \n",
       "1               0.0  \n",
       "2               0.0  \n",
       "3               0.0  \n",
       "4               0.0  \n",
       "...             ...  \n",
       "128350        212.0  \n",
       "128351         35.0  \n",
       "128352         32.0  \n",
       "128353        -35.0  \n",
       "128354        -81.0  \n",
       "\n",
       "[128355 rows x 8 columns]"
      ]
     },
     "execution_count": 8,
     "metadata": {},
     "output_type": "execute_result"
    }
   ],
   "source": [
    "data"
   ]
  },
  {
   "cell_type": "code",
   "execution_count": 9,
   "metadata": {
    "scrolled": false
   },
   "outputs": [
    {
     "data": {
      "text/plain": [
       "<matplotlib.axes._subplots.AxesSubplot at 0x24f4627fa08>"
      ]
     },
     "execution_count": 9,
     "metadata": {},
     "output_type": "execute_result"
    },
    {
     "data": {
      "image/png": "[encoded data removed]",
      "text/plain": [
       "<Figure size 1080x504 with 1 Axes>"
      ]
     },
     "metadata": {
      "needs_background": "light"
     },
     "output_type": "display_data"
    }
   ],
   "source": [
    "sns.countplot(x='ARTICLE_GROUP', data=data)"
   ]
  },
  {
   "cell_type": "code",
   "execution_count": 10,
   "metadata": {},
   "outputs": [
    {
     "data": {
      "text/plain": [
       "<matplotlib.axes._subplots.AxesSubplot at 0x24f469f9488>"
      ]
     },
     "execution_count": 10,
     "metadata": {},
     "output_type": "execute_result"
    },
    {
     "data": {
      "image/png": "[encoded data removed]",
      "text/plain": [
       "<Figure size 1080x504 with 1 Axes>"
      ]
     },
     "metadata": {
      "needs_background": "light"
     },
     "output_type": "display_data"
    }
   ],
   "source": [
    "sns.barplot(x='ARTICLE_GROUP', y='SALES', data=data)"
   ]
  },
  {
   "cell_type": "code",
   "execution_count": 11,
   "metadata": {},
   "outputs": [
    {
     "data": {
      "text/plain": [
       "<matplotlib.axes._subplots.AxesSubplot at 0x24f46aab9c8>"
      ]
     },
     "execution_count": 11,
     "metadata": {},
     "output_type": "execute_result"
    },
    {
     "data": {
      "image/png": "[encoded data removed]",
      "text/plain": [
       "<Figure size 1080x504 with 1 Axes>"
      ]
     },
     "metadata": {
      "needs_background": "light"
     },
     "output_type": "display_data"
    }
   ],
   "source": [
    "sns.barplot(x='MONTH', y='STORE_SALES', data=data)"
   ]
  },
  {
   "cell_type": "code",
   "execution_count": 12,
   "metadata": {},
   "outputs": [
    {
     "data": {
      "text/plain": [
       "array([ 4,  5,  6,  8,  9, 10, 11, 12,  1,  2], dtype=int64)"
      ]
     },
     "execution_count": 12,
     "metadata": {},
     "output_type": "execute_result"
    }
   ],
   "source": [
    "data['MONTH'].unique()"
   ]
  },
  {
   "cell_type": "code",
   "execution_count": 13,
   "metadata": {
    "scrolled": false
   },
   "outputs": [
    {
     "data": {
      "text/plain": [
       "<matplotlib.axes._subplots.AxesSubplot at 0x24f47168408>"
      ]
     },
     "execution_count": 13,
     "metadata": {},
     "output_type": "execute_result"
    },
    {
     "data": {
      "image/png": "[encoded data removed]",
      "text/plain": [
       "<Figure size 1080x504 with 1 Axes>"
      ]
     },
     "metadata": {
      "needs_background": "light"
     },
     "output_type": "display_data"
    }
   ],
   "source": [
    "sns.barplot(x='MONTH', y='SALES', data=data)"
   ]
  },
  {
   "cell_type": "code",
   "execution_count": 14,
   "metadata": {},
   "outputs": [],
   "source": [
    "date_block_num = data.groupby(['YEAR', 'MONTH']).ngroup()\n",
    "date_block_num.name = 'DATE_BLOCK_NUM'\n",
    "date_block_num += 1\n",
    "\n",
    "data = pd.concat([date_block_num, data], axis=1)"
   ]
  },
  {
   "cell_type": "code",
   "execution_count": 15,
   "metadata": {},
   "outputs": [],
   "source": [
    "data = data[data['MONTH'] != 4]\n",
    "data.reset_index(drop=True, inplace=True)"
   ]
  },
  {
   "cell_type": "markdown",
   "metadata": {},
   "source": [
    "## Feature Enginering"
   ]
  },
  {
   "cell_type": "code",
   "execution_count": 16,
   "metadata": {},
   "outputs": [],
   "source": [
    "def add_lag_sales(df, lags, store=False):\n",
    "    if store:\n",
    "        tmp_df = df[['DATE_BLOCK_NUM', 'CONTRAGENT', 'ARTICLE_CODE', 'SALES', 'STORE_SALES']]\n",
    "    \n",
    "    else:\n",
    "        tmp_df = df[['DATE_BLOCK_NUM', 'CONTRAGENT', 'ARTICLE_CODE', 'SALES']]\n",
    "    \n",
    "    for i in lags:\n",
    "        shifted_df = tmp_df.copy()\n",
    "        \n",
    "        if store:\n",
    "            shifted_df.columns = ['DATE_BLOCK_NUM', 'CONTRAGENT', 'ARTICLE_CODE', \n",
    "                                  'SALES' + '_LAG_' + str(i), 'STORE_SALES' + '_LAG_' + str(i)]\n",
    "            \n",
    "        else:\n",
    "            shifted_df.columns = ['DATE_BLOCK_NUM', 'CONTRAGENT', 'ARTICLE_CODE', 'SALES' + '_LAG_' + str(i)]\n",
    "            \n",
    "        shifted_df['DATE_BLOCK_NUM'] += i\n",
    "        \n",
    "        df = pd.merge(df, shifted_df, on=['DATE_BLOCK_NUM', 'CONTRAGENT', 'ARTICLE_CODE'], how='left')\n",
    "        \n",
    "    return df"
   ]
  },
  {
   "cell_type": "code",
   "execution_count": 17,
   "metadata": {},
   "outputs": [],
   "source": [
    "def add_lag_features(df, lags, gb_cols, col):\n",
    "    grouped_df = data.groupby(gb_cols).agg({'SALES': 'mean'})\n",
    "    grouped_df.columns = [col]\n",
    "    grouped_df.reset_index(inplace=True)\n",
    "    \n",
    "    df = pd.merge(df, grouped_df, on=gb_cols, how='left')\n",
    "    \n",
    "    tmp_df = df[['DATE_BLOCK_NUM', 'CONTRAGENT', 'ARTICLE_CODE', col]]\n",
    "    \n",
    "    for i in lags:\n",
    "        shifted_df = tmp_df.copy()\n",
    "        shifted_df.columns = ['DATE_BLOCK_NUM', 'CONTRAGENT', 'ARTICLE_CODE', col + '_LAG_' + str(i)]\n",
    "        shifted_df['DATE_BLOCK_NUM'] += i\n",
    "        \n",
    "        df = pd.merge(df, shifted_df, on=['DATE_BLOCK_NUM', 'CONTRAGENT', 'ARTICLE_CODE'], how='left')\n",
    "        \n",
    "    df.drop([col], axis=1, inplace=True)\n",
    "        \n",
    "    return df"
   ]
  },
  {
   "cell_type": "code",
   "execution_count": 18,
   "metadata": {},
   "outputs": [],
   "source": [
    "data = add_lag_sales(data, [1, 2, 3])"
   ]
  },
  {
   "cell_type": "code",
   "execution_count": 19,
   "metadata": {},
   "outputs": [],
   "source": [
    "data = add_lag_features(data, [1, 2, 3], ['DATE_BLOCK_NUM', 'CONTRAGENT'], 'AVG_CONTRAGENT_SALES')\n",
    "data = add_lag_features(data, [1, 2, 3], ['DATE_BLOCK_NUM', 'ARTICLE_GROUP'], 'AVG_ARTICLE_GROUP_SALES')"
   ]
  },
  {
   "cell_type": "code",
   "execution_count": 20,
   "metadata": {
    "scrolled": false
   },
   "outputs": [
    {
     "data": {
      "text/html": [
       "<div>\n",
       "<style scoped>\n",
       "    .dataframe tbody tr th:only-of-type {\n",
       "        vertical-align: middle;\n",
       "    }\n",
       "\n",
       "    .dataframe tbody tr th {\n",
       "        vertical-align: top;\n",
       "    }\n",
       "\n",
       "    .dataframe thead th {\n",
       "        text-align: right;\n",
       "    }\n",
       "</style>\n",
       "<table border=\"1\" class=\"dataframe\">\n",
       "  <thead>\n",
       "    <tr style=\"text-align: right;\">\n",
       "      <th></th>\n",
       "      <th>DATE_BLOCK_NUM</th>\n",
       "      <th>YEAR</th>\n",
       "      <th>MONTH</th>\n",
       "      <th>CONTRAGENT</th>\n",
       "      <th>ARTICLE_CODE</th>\n",
       "      <th>ARTICLE_NAME</th>\n",
       "      <th>ARTICLE_GROUP</th>\n",
       "      <th>SALES</th>\n",
       "      <th>STORE_SALES</th>\n",
       "      <th>SALES_LAG_1</th>\n",
       "      <th>SALES_LAG_2</th>\n",
       "      <th>SALES_LAG_3</th>\n",
       "      <th>AVG_CONTRAGENT_SALES_LAG_1</th>\n",
       "      <th>AVG_CONTRAGENT_SALES_LAG_2</th>\n",
       "      <th>AVG_CONTRAGENT_SALES_LAG_3</th>\n",
       "      <th>AVG_ARTICLE_GROUP_SALES_LAG_1</th>\n",
       "      <th>AVG_ARTICLE_GROUP_SALES_LAG_2</th>\n",
       "      <th>AVG_ARTICLE_GROUP_SALES_LAG_3</th>\n",
       "    </tr>\n",
       "  </thead>\n",
       "  <tbody>\n",
       "    <tr>\n",
       "      <th>0</th>\n",
       "      <td>2</td>\n",
       "      <td>2017</td>\n",
       "      <td>5</td>\n",
       "      <td>DOPS INC</td>\n",
       "      <td>12644</td>\n",
       "      <td>RARE PINOT NOIR - 750ML</td>\n",
       "      <td>WINE</td>\n",
       "      <td>0.0</td>\n",
       "      <td>1.0</td>\n",
       "      <td>NaN</td>\n",
       "      <td>NaN</td>\n",
       "      <td>NaN</td>\n",
       "      <td>NaN</td>\n",
       "      <td>NaN</td>\n",
       "      <td>NaN</td>\n",
       "      <td>NaN</td>\n",
       "      <td>NaN</td>\n",
       "      <td>NaN</td>\n",
       "    </tr>\n",
       "    <tr>\n",
       "      <th>1</th>\n",
       "      <td>2</td>\n",
       "      <td>2017</td>\n",
       "      <td>5</td>\n",
       "      <td>CONSTANTINE WINES INC</td>\n",
       "      <td>100003</td>\n",
       "      <td>LA CETTO ZINFANDEL - 750ML</td>\n",
       "      <td>WINE</td>\n",
       "      <td>0.0</td>\n",
       "      <td>1.0</td>\n",
       "      <td>NaN</td>\n",
       "      <td>NaN</td>\n",
       "      <td>NaN</td>\n",
       "      <td>NaN</td>\n",
       "      <td>NaN</td>\n",
       "      <td>NaN</td>\n",
       "      <td>NaN</td>\n",
       "      <td>NaN</td>\n",
       "      <td>NaN</td>\n",
       "    </tr>\n",
       "    <tr>\n",
       "      <th>2</th>\n",
       "      <td>2</td>\n",
       "      <td>2017</td>\n",
       "      <td>5</td>\n",
       "      <td>CONSTANTINE WINES INC</td>\n",
       "      <td>100007</td>\n",
       "      <td>LA CETTO CAB SAUV - 750ML</td>\n",
       "      <td>WINE</td>\n",
       "      <td>0.0</td>\n",
       "      <td>1.0</td>\n",
       "      <td>NaN</td>\n",
       "      <td>NaN</td>\n",
       "      <td>NaN</td>\n",
       "      <td>NaN</td>\n",
       "      <td>NaN</td>\n",
       "      <td>NaN</td>\n",
       "      <td>NaN</td>\n",
       "      <td>NaN</td>\n",
       "      <td>NaN</td>\n",
       "    </tr>\n",
       "    <tr>\n",
       "      <th>3</th>\n",
       "      <td>2</td>\n",
       "      <td>2017</td>\n",
       "      <td>5</td>\n",
       "      <td>INTERBALT PRODUCTS CORP</td>\n",
       "      <td>100011</td>\n",
       "      <td>PAPI P/GRIG - 1.5L</td>\n",
       "      <td>WINE</td>\n",
       "      <td>0.0</td>\n",
       "      <td>2.0</td>\n",
       "      <td>NaN</td>\n",
       "      <td>NaN</td>\n",
       "      <td>NaN</td>\n",
       "      <td>NaN</td>\n",
       "      <td>NaN</td>\n",
       "      <td>NaN</td>\n",
       "      <td>NaN</td>\n",
       "      <td>NaN</td>\n",
       "      <td>NaN</td>\n",
       "    </tr>\n",
       "    <tr>\n",
       "      <th>4</th>\n",
       "      <td>2</td>\n",
       "      <td>2017</td>\n",
       "      <td>5</td>\n",
       "      <td>INTERBALT PRODUCTS CORP</td>\n",
       "      <td>100012</td>\n",
       "      <td>PAPI P/GRIG - 750ML</td>\n",
       "      <td>WINE</td>\n",
       "      <td>0.0</td>\n",
       "      <td>3.0</td>\n",
       "      <td>NaN</td>\n",
       "      <td>NaN</td>\n",
       "      <td>NaN</td>\n",
       "      <td>NaN</td>\n",
       "      <td>NaN</td>\n",
       "      <td>NaN</td>\n",
       "      <td>NaN</td>\n",
       "      <td>NaN</td>\n",
       "      <td>NaN</td>\n",
       "    </tr>\n",
       "    <tr>\n",
       "      <th>...</th>\n",
       "      <td>...</td>\n",
       "      <td>...</td>\n",
       "      <td>...</td>\n",
       "      <td>...</td>\n",
       "      <td>...</td>\n",
       "      <td>...</td>\n",
       "      <td>...</td>\n",
       "      <td>...</td>\n",
       "      <td>...</td>\n",
       "      <td>...</td>\n",
       "      <td>...</td>\n",
       "      <td>...</td>\n",
       "      <td>...</td>\n",
       "      <td>...</td>\n",
       "      <td>...</td>\n",
       "      <td>...</td>\n",
       "      <td>...</td>\n",
       "      <td>...</td>\n",
       "    </tr>\n",
       "    <tr>\n",
       "      <th>123155</th>\n",
       "      <td>10</td>\n",
       "      <td>2018</td>\n",
       "      <td>2</td>\n",
       "      <td>ANHEUSER BUSCH INC</td>\n",
       "      <td>9997</td>\n",
       "      <td>HOEGAARDEN 4/6NR - 12OZ</td>\n",
       "      <td>BEER</td>\n",
       "      <td>66460.0</td>\n",
       "      <td>212.0</td>\n",
       "      <td>60740.0</td>\n",
       "      <td>113370.0</td>\n",
       "      <td>81660.0</td>\n",
       "      <td>14790.745614</td>\n",
       "      <td>25582.085106</td>\n",
       "      <td>20048.132780</td>\n",
       "      <td>9728.371412</td>\n",
       "      <td>16065.863991</td>\n",
       "      <td>12428.722045</td>\n",
       "    </tr>\n",
       "    <tr>\n",
       "      <th>123156</th>\n",
       "      <td>10</td>\n",
       "      <td>2018</td>\n",
       "      <td>2</td>\n",
       "      <td>COASTAL BREWING COMPANY LLC</td>\n",
       "      <td>99970</td>\n",
       "      <td>DOMINION OAK BARREL STOUT 4/6 NR - 12OZ</td>\n",
       "      <td>BEER</td>\n",
       "      <td>9080.0</td>\n",
       "      <td>35.0</td>\n",
       "      <td>7500.0</td>\n",
       "      <td>19250.0</td>\n",
       "      <td>17000.0</td>\n",
       "      <td>1630.000000</td>\n",
       "      <td>3803.500000</td>\n",
       "      <td>3184.782609</td>\n",
       "      <td>9728.371412</td>\n",
       "      <td>16065.863991</td>\n",
       "      <td>12428.722045</td>\n",
       "    </tr>\n",
       "    <tr>\n",
       "      <th>123157</th>\n",
       "      <td>10</td>\n",
       "      <td>2018</td>\n",
       "      <td>2</td>\n",
       "      <td>BOSTON BEER CORPORATION</td>\n",
       "      <td>99988</td>\n",
       "      <td>SAM ADAMS COLD SNAP 1/6 KG</td>\n",
       "      <td>KEGS</td>\n",
       "      <td>0.0</td>\n",
       "      <td>32.0</td>\n",
       "      <td>0.0</td>\n",
       "      <td>0.0</td>\n",
       "      <td>NaN</td>\n",
       "      <td>13718.846154</td>\n",
       "      <td>30620.377358</td>\n",
       "      <td>NaN</td>\n",
       "      <td>0.000000</td>\n",
       "      <td>0.000000</td>\n",
       "      <td>NaN</td>\n",
       "    </tr>\n",
       "    <tr>\n",
       "      <th>123158</th>\n",
       "      <td>10</td>\n",
       "      <td>2018</td>\n",
       "      <td>2</td>\n",
       "      <td>NO_CONTRAGENT</td>\n",
       "      <td>BC</td>\n",
       "      <td>BEER CREDIT</td>\n",
       "      <td>REF</td>\n",
       "      <td>0.0</td>\n",
       "      <td>-35.0</td>\n",
       "      <td>0.0</td>\n",
       "      <td>0.0</td>\n",
       "      <td>0.0</td>\n",
       "      <td>0.000000</td>\n",
       "      <td>0.000000</td>\n",
       "      <td>0.000000</td>\n",
       "      <td>3380.000000</td>\n",
       "      <td>5887.142857</td>\n",
       "      <td>9015.714286</td>\n",
       "    </tr>\n",
       "    <tr>\n",
       "      <th>123159</th>\n",
       "      <td>10</td>\n",
       "      <td>2018</td>\n",
       "      <td>2</td>\n",
       "      <td>NO_CONTRAGENT</td>\n",
       "      <td>WC</td>\n",
       "      <td>WINE CREDIT</td>\n",
       "      <td>REF</td>\n",
       "      <td>0.0</td>\n",
       "      <td>-81.0</td>\n",
       "      <td>0.0</td>\n",
       "      <td>0.0</td>\n",
       "      <td>0.0</td>\n",
       "      <td>0.000000</td>\n",
       "      <td>0.000000</td>\n",
       "      <td>0.000000</td>\n",
       "      <td>3380.000000</td>\n",
       "      <td>5887.142857</td>\n",
       "      <td>9015.714286</td>\n",
       "    </tr>\n",
       "  </tbody>\n",
       "</table>\n",
       "<p>123160 rows × 18 columns</p>\n",
       "</div>"
      ],
      "text/plain": [
       "        DATE_BLOCK_NUM  YEAR  MONTH                   CONTRAGENT ARTICLE_CODE  \\\n",
       "0                    2  2017      5                     DOPS INC        12644   \n",
       "1                    2  2017      5        CONSTANTINE WINES INC       100003   \n",
       "2                    2  2017      5        CONSTANTINE WINES INC       100007   \n",
       "3                    2  2017      5      INTERBALT PRODUCTS CORP       100011   \n",
       "4                    2  2017      5      INTERBALT PRODUCTS CORP       100012   \n",
       "...                ...   ...    ...                          ...          ...   \n",
       "123155              10  2018      2           ANHEUSER BUSCH INC         9997   \n",
       "123156              10  2018      2  COASTAL BREWING COMPANY LLC        99970   \n",
       "123157              10  2018      2      BOSTON BEER CORPORATION        99988   \n",
       "123158              10  2018      2                NO_CONTRAGENT           BC   \n",
       "123159              10  2018      2                NO_CONTRAGENT           WC   \n",
       "\n",
       "                                   ARTICLE_NAME ARTICLE_GROUP    SALES  \\\n",
       "0                       RARE PINOT NOIR - 750ML          WINE      0.0   \n",
       "1                    LA CETTO ZINFANDEL - 750ML          WINE      0.0   \n",
       "2                     LA CETTO CAB SAUV - 750ML          WINE      0.0   \n",
       "3                            PAPI P/GRIG - 1.5L          WINE      0.0   \n",
       "4                           PAPI P/GRIG - 750ML          WINE      0.0   \n",
       "...                                         ...           ...      ...   \n",
       "123155                  HOEGAARDEN 4/6NR - 12OZ          BEER  66460.0   \n",
       "123156  DOMINION OAK BARREL STOUT 4/6 NR - 12OZ          BEER   9080.0   \n",
       "123157               SAM ADAMS COLD SNAP 1/6 KG          KEGS      0.0   \n",
       "123158                              BEER CREDIT           REF      0.0   \n",
       "123159                              WINE CREDIT           REF      0.0   \n",
       "\n",
       "        STORE_SALES  SALES_LAG_1  SALES_LAG_2  SALES_LAG_3  \\\n",
       "0               1.0          NaN          NaN          NaN   \n",
       "1               1.0          NaN          NaN          NaN   \n",
       "2               1.0          NaN          NaN          NaN   \n",
       "3               2.0          NaN          NaN          NaN   \n",
       "4               3.0          NaN          NaN          NaN   \n",
       "...             ...          ...          ...          ...   \n",
       "123155        212.0      60740.0     113370.0      81660.0   \n",
       "123156         35.0       7500.0      19250.0      17000.0   \n",
       "123157         32.0          0.0          0.0          NaN   \n",
       "123158        -35.0          0.0          0.0          0.0   \n",
       "123159        -81.0          0.0          0.0          0.0   \n",
       "\n",
       "        AVG_CONTRAGENT_SALES_LAG_1  AVG_CONTRAGENT_SALES_LAG_2  \\\n",
       "0                              NaN                         NaN   \n",
       "1                              NaN                         NaN   \n",
       "2                              NaN                         NaN   \n",
       "3                              NaN                         NaN   \n",
       "4                              NaN                         NaN   \n",
       "...                            ...                         ...   \n",
       "123155                14790.745614                25582.085106   \n",
       "123156                 1630.000000                 3803.500000   \n",
       "123157                13718.846154                30620.377358   \n",
       "123158                    0.000000                    0.000000   \n",
       "123159                    0.000000                    0.000000   \n",
       "\n",
       "        AVG_CONTRAGENT_SALES_LAG_3  AVG_ARTICLE_GROUP_SALES_LAG_1  \\\n",
       "0                              NaN                            NaN   \n",
       "1                              NaN                            NaN   \n",
       "2                              NaN                            NaN   \n",
       "3                              NaN                            NaN   \n",
       "4                              NaN                            NaN   \n",
       "...                            ...                            ...   \n",
       "123155                20048.132780                    9728.371412   \n",
       "123156                 3184.782609                    9728.371412   \n",
       "123157                         NaN                       0.000000   \n",
       "123158                    0.000000                    3380.000000   \n",
       "123159                    0.000000                    3380.000000   \n",
       "\n",
       "        AVG_ARTICLE_GROUP_SALES_LAG_2  AVG_ARTICLE_GROUP_SALES_LAG_3  \n",
       "0                                 NaN                            NaN  \n",
       "1                                 NaN                            NaN  \n",
       "2                                 NaN                            NaN  \n",
       "3                                 NaN                            NaN  \n",
       "4                                 NaN                            NaN  \n",
       "...                               ...                            ...  \n",
       "123155                   16065.863991                   12428.722045  \n",
       "123156                   16065.863991                   12428.722045  \n",
       "123157                       0.000000                            NaN  \n",
       "123158                    5887.142857                    9015.714286  \n",
       "123159                    5887.142857                    9015.714286  \n",
       "\n",
       "[123160 rows x 18 columns]"
      ]
     },
     "execution_count": 20,
     "metadata": {},
     "output_type": "execute_result"
    }
   ],
   "source": [
    "data"
   ]
  },
  {
   "cell_type": "code",
   "execution_count": 21,
   "metadata": {},
   "outputs": [],
   "source": [
    "data = data[data['DATE_BLOCK_NUM'] > 4]\n",
    "data.reset_index(drop=True, inplace=True)"
   ]
  },
  {
   "cell_type": "code",
   "execution_count": 22,
   "metadata": {},
   "outputs": [
    {
     "name": "stderr",
     "output_type": "stream",
     "text": [
      "C:\\Users\\Vlad Molchanov\\miniconda3\\lib\\site-packages\\pandas\\core\\indexing.py:966: SettingWithCopyWarning: \n",
      "A value is trying to be set on a copy of a slice from a DataFrame.\n",
      "Try using .loc[row_indexer,col_indexer] = value instead\n",
      "\n",
      "See the caveats in the documentation: https://pandas.pydata.org/pandas-docs/stable/user_guide/indexing.html#returning-a-view-versus-a-copy\n",
      "  self.obj[item] = s\n"
     ]
    }
   ],
   "source": [
    "data.loc[:, 'CONTRAGENT']    = LabelEncoder().fit_transform(data.loc[:, 'CONTRAGENT'])\n",
    "data.loc[:, 'ARTICLE_CODE']  = LabelEncoder().fit_transform(data.loc[:, 'ARTICLE_CODE'])\n",
    "data.loc[:, 'ARTICLE_GROUP'] = LabelEncoder().fit_transform(data.loc[:, 'ARTICLE_GROUP'])"
   ]
  },
  {
   "cell_type": "code",
   "execution_count": 23,
   "metadata": {},
   "outputs": [],
   "source": [
    "data = data.drop(['YEAR', 'MONTH', 'ARTICLE_NAME'], axis=1)"
   ]
  },
  {
   "cell_type": "code",
   "execution_count": 24,
   "metadata": {},
   "outputs": [],
   "source": [
    "data.replace([-np.nan, np.nan], 0, inplace=True)\n",
    "data.fillna(0, inplace=True)"
   ]
  },
  {
   "cell_type": "code",
   "execution_count": 25,
   "metadata": {},
   "outputs": [],
   "source": [
    "X = data.drop('SALES', axis=1)\n",
    "y = data['SALES']"
   ]
  },
  {
   "cell_type": "code",
   "execution_count": 26,
   "metadata": {},
   "outputs": [
    {
     "name": "stdout",
     "output_type": "stream",
     "text": [
      "Wall time: 2.24 s\n"
     ]
    },
    {
     "data": {
      "text/plain": [
       "DecisionTreeRegressor()"
      ]
     },
     "execution_count": 26,
     "metadata": {},
     "output_type": "execute_result"
    }
   ],
   "source": [
    "%%time\n",
    "\n",
    "decision_tree = DecisionTreeRegressor()\n",
    "decision_tree.fit(X, y)"
   ]
  },
  {
   "cell_type": "code",
   "execution_count": 27,
   "metadata": {
    "scrolled": true
   },
   "outputs": [
    {
     "data": {
      "text/plain": [
       "array([1.61866928e-02, 5.48753448e-03, 9.39021034e-03, 5.48537910e-04,\n",
       "       1.23874458e-02, 2.19144670e-01, 5.27192519e-02, 6.46830408e-01,\n",
       "       2.97171325e-03, 5.76772092e-03, 1.08848909e-02, 4.35244975e-03,\n",
       "       1.03704219e-02, 2.95805183e-03])"
      ]
     },
     "execution_count": 27,
     "metadata": {},
     "output_type": "execute_result"
    }
   ],
   "source": [
    "decision_tree.feature_importances_"
   ]
  },
  {
   "cell_type": "code",
   "execution_count": 28,
   "metadata": {},
   "outputs": [],
   "source": [
    "def plot_feature_importance(fi):\n",
    "    fig, ax = plt.subplots(figsize=(12, 10))\n",
    "    \n",
    "    num_bar = min(len(fi.index), 30)\n",
    "    ax.barh(np.arange(0, num_bar), fi['importance'][:num_bar], align='center')\n",
    "    ax.set_yticks(np.arange(0, num_bar))\n",
    "    ax.set_yticklabels(fi['feature'][:num_bar])"
   ]
  },
  {
   "cell_type": "code",
   "execution_count": 29,
   "metadata": {
    "scrolled": false
   },
   "outputs": [
    {
     "data": {
      "image/png": "[encoded data removed]",
      "text/plain": [
       "<Figure size 864x720 with 1 Axes>"
      ]
     },
     "metadata": {
      "needs_background": "light"
     },
     "output_type": "display_data"
    }
   ],
   "source": [
    "fi = pd.DataFrame({'feature': X.columns, \n",
    "                   'importance': decision_tree.feature_importances_}).sort_values(by='importance', ascending=True)\n",
    "\n",
    "fi = fi.reset_index()\n",
    "\n",
    "plot_feature_importance(fi)"
   ]
  },
  {
   "cell_type": "code",
   "execution_count": 30,
   "metadata": {},
   "outputs": [],
   "source": [
    "data = data[['DATE_BLOCK_NUM', 'CONTRAGENT', 'ARTICLE_CODE', 'SALES', \n",
    "             'STORE_SALES', 'SALES_LAG_1', 'SALES_LAG_2', 'SALES_LAG_3']]"
   ]
  },
  {
   "cell_type": "code",
   "execution_count": 31,
   "metadata": {},
   "outputs": [
    {
     "data": {
      "text/html": [
       "<div>\n",
       "<style scoped>\n",
       "    .dataframe tbody tr th:only-of-type {\n",
       "        vertical-align: middle;\n",
       "    }\n",
       "\n",
       "    .dataframe tbody tr th {\n",
       "        vertical-align: top;\n",
       "    }\n",
       "\n",
       "    .dataframe thead th {\n",
       "        text-align: right;\n",
       "    }\n",
       "</style>\n",
       "<table border=\"1\" class=\"dataframe\">\n",
       "  <thead>\n",
       "    <tr style=\"text-align: right;\">\n",
       "      <th></th>\n",
       "      <th>DATE_BLOCK_NUM</th>\n",
       "      <th>CONTRAGENT</th>\n",
       "      <th>ARTICLE_CODE</th>\n",
       "      <th>SALES</th>\n",
       "      <th>STORE_SALES</th>\n",
       "      <th>SALES_LAG_1</th>\n",
       "      <th>SALES_LAG_2</th>\n",
       "      <th>SALES_LAG_3</th>\n",
       "    </tr>\n",
       "  </thead>\n",
       "  <tbody>\n",
       "    <tr>\n",
       "      <th>0</th>\n",
       "      <td>5</td>\n",
       "      <td>177</td>\n",
       "      <td>1832</td>\n",
       "      <td>160.0</td>\n",
       "      <td>0.0</td>\n",
       "      <td>160.0</td>\n",
       "      <td>320.0</td>\n",
       "      <td>250.0</td>\n",
       "    </tr>\n",
       "    <tr>\n",
       "      <th>1</th>\n",
       "      <td>5</td>\n",
       "      <td>231</td>\n",
       "      <td>4</td>\n",
       "      <td>0.0</td>\n",
       "      <td>1.0</td>\n",
       "      <td>0.0</td>\n",
       "      <td>0.0</td>\n",
       "      <td>0.0</td>\n",
       "    </tr>\n",
       "    <tr>\n",
       "      <th>2</th>\n",
       "      <td>5</td>\n",
       "      <td>222</td>\n",
       "      <td>5</td>\n",
       "      <td>0.0</td>\n",
       "      <td>2.0</td>\n",
       "      <td>0.0</td>\n",
       "      <td>0.0</td>\n",
       "      <td>0.0</td>\n",
       "    </tr>\n",
       "    <tr>\n",
       "      <th>3</th>\n",
       "      <td>5</td>\n",
       "      <td>231</td>\n",
       "      <td>8</td>\n",
       "      <td>80.0</td>\n",
       "      <td>0.0</td>\n",
       "      <td>0.0</td>\n",
       "      <td>80.0</td>\n",
       "      <td>320.0</td>\n",
       "    </tr>\n",
       "    <tr>\n",
       "      <th>4</th>\n",
       "      <td>5</td>\n",
       "      <td>76</td>\n",
       "      <td>9</td>\n",
       "      <td>0.0</td>\n",
       "      <td>2.0</td>\n",
       "      <td>0.0</td>\n",
       "      <td>0.0</td>\n",
       "      <td>0.0</td>\n",
       "    </tr>\n",
       "    <tr>\n",
       "      <th>...</th>\n",
       "      <td>...</td>\n",
       "      <td>...</td>\n",
       "      <td>...</td>\n",
       "      <td>...</td>\n",
       "      <td>...</td>\n",
       "      <td>...</td>\n",
       "      <td>...</td>\n",
       "      <td>...</td>\n",
       "    </tr>\n",
       "    <tr>\n",
       "      <th>82484</th>\n",
       "      <td>10</td>\n",
       "      <td>15</td>\n",
       "      <td>21045</td>\n",
       "      <td>66460.0</td>\n",
       "      <td>212.0</td>\n",
       "      <td>60740.0</td>\n",
       "      <td>113370.0</td>\n",
       "      <td>81660.0</td>\n",
       "    </tr>\n",
       "    <tr>\n",
       "      <th>82485</th>\n",
       "      <td>10</td>\n",
       "      <td>59</td>\n",
       "      <td>21046</td>\n",
       "      <td>9080.0</td>\n",
       "      <td>35.0</td>\n",
       "      <td>7500.0</td>\n",
       "      <td>19250.0</td>\n",
       "      <td>17000.0</td>\n",
       "    </tr>\n",
       "    <tr>\n",
       "      <th>82486</th>\n",
       "      <td>10</td>\n",
       "      <td>37</td>\n",
       "      <td>21047</td>\n",
       "      <td>0.0</td>\n",
       "      <td>32.0</td>\n",
       "      <td>0.0</td>\n",
       "      <td>0.0</td>\n",
       "      <td>0.0</td>\n",
       "    </tr>\n",
       "    <tr>\n",
       "      <th>82487</th>\n",
       "      <td>10</td>\n",
       "      <td>194</td>\n",
       "      <td>21048</td>\n",
       "      <td>0.0</td>\n",
       "      <td>-35.0</td>\n",
       "      <td>0.0</td>\n",
       "      <td>0.0</td>\n",
       "      <td>0.0</td>\n",
       "    </tr>\n",
       "    <tr>\n",
       "      <th>82488</th>\n",
       "      <td>10</td>\n",
       "      <td>194</td>\n",
       "      <td>21049</td>\n",
       "      <td>0.0</td>\n",
       "      <td>-81.0</td>\n",
       "      <td>0.0</td>\n",
       "      <td>0.0</td>\n",
       "      <td>0.0</td>\n",
       "    </tr>\n",
       "  </tbody>\n",
       "</table>\n",
       "<p>82489 rows × 8 columns</p>\n",
       "</div>"
      ],
      "text/plain": [
       "       DATE_BLOCK_NUM  CONTRAGENT  ARTICLE_CODE    SALES  STORE_SALES  \\\n",
       "0                   5         177          1832    160.0          0.0   \n",
       "1                   5         231             4      0.0          1.0   \n",
       "2                   5         222             5      0.0          2.0   \n",
       "3                   5         231             8     80.0          0.0   \n",
       "4                   5          76             9      0.0          2.0   \n",
       "...               ...         ...           ...      ...          ...   \n",
       "82484              10          15         21045  66460.0        212.0   \n",
       "82485              10          59         21046   9080.0         35.0   \n",
       "82486              10          37         21047      0.0         32.0   \n",
       "82487              10         194         21048      0.0        -35.0   \n",
       "82488              10         194         21049      0.0        -81.0   \n",
       "\n",
       "       SALES_LAG_1  SALES_LAG_2  SALES_LAG_3  \n",
       "0            160.0        320.0        250.0  \n",
       "1              0.0          0.0          0.0  \n",
       "2              0.0          0.0          0.0  \n",
       "3              0.0         80.0        320.0  \n",
       "4              0.0          0.0          0.0  \n",
       "...            ...          ...          ...  \n",
       "82484      60740.0     113370.0      81660.0  \n",
       "82485       7500.0      19250.0      17000.0  \n",
       "82486          0.0          0.0          0.0  \n",
       "82487          0.0          0.0          0.0  \n",
       "82488          0.0          0.0          0.0  \n",
       "\n",
       "[82489 rows x 8 columns]"
      ]
     },
     "execution_count": 31,
     "metadata": {},
     "output_type": "execute_result"
    }
   ],
   "source": [
    "data"
   ]
  },
  {
   "cell_type": "code",
   "execution_count": 32,
   "metadata": {},
   "outputs": [],
   "source": [
    "def metric(y_true, y_pred):\n",
    "    return np.sum(np.abs(y_true - y_pred)) / np.sum(y_pred) * 100"
   ]
  },
  {
   "cell_type": "markdown",
   "metadata": {},
   "source": [
    "## Random Forest"
   ]
  },
  {
   "cell_type": "code",
   "execution_count": 33,
   "metadata": {},
   "outputs": [],
   "source": [
    "X_train = data[data['DATE_BLOCK_NUM'] != 10].drop(['DATE_BLOCK_NUM', 'SALES'], axis=1)\n",
    "X_test  = data[data['DATE_BLOCK_NUM'] == 10].drop(['DATE_BLOCK_NUM', 'SALES'], axis=1)\n",
    "\n",
    "y_train = data[data['DATE_BLOCK_NUM'] != 10]['SALES']\n",
    "y_test  = data[data['DATE_BLOCK_NUM'] == 10]['SALES']"
   ]
  },
  {
   "cell_type": "code",
   "execution_count": 34,
   "metadata": {},
   "outputs": [],
   "source": [
    "rf_model = RandomForestRegressor(oob_score=True, n_jobs=-1)"
   ]
  },
  {
   "cell_type": "code",
   "execution_count": 35,
   "metadata": {},
   "outputs": [
    {
     "data": {
      "text/plain": [
       "RandomForestRegressor(n_jobs=-1, oob_score=True)"
      ]
     },
     "execution_count": 35,
     "metadata": {},
     "output_type": "execute_result"
    }
   ],
   "source": [
    "rf_model.fit(X_train, y_train)"
   ]
  },
  {
   "cell_type": "code",
   "execution_count": 36,
   "metadata": {},
   "outputs": [
    {
     "data": {
      "text/plain": [
       "0.8575851036120561"
      ]
     },
     "execution_count": 36,
     "metadata": {},
     "output_type": "execute_result"
    }
   ],
   "source": [
    "rf_model.oob_score_"
   ]
  },
  {
   "cell_type": "code",
   "execution_count": 37,
   "metadata": {},
   "outputs": [
    {
     "data": {
      "text/plain": [
       "35.58928808940875"
      ]
     },
     "execution_count": 37,
     "metadata": {},
     "output_type": "execute_result"
    }
   ],
   "source": [
    "metric(y_test, rf_model.predict(X_test))"
   ]
  },
  {
   "cell_type": "markdown",
   "metadata": {},
   "source": [
    "## XGBoost"
   ]
  },
  {
   "cell_type": "code",
   "execution_count": 38,
   "metadata": {},
   "outputs": [],
   "source": [
    "X_train = data[data.DATE_BLOCK_NUM < 9].drop(['DATE_BLOCK_NUM', 'SALES'], axis=1)\n",
    "X_val   = data[data.DATE_BLOCK_NUM == 9].drop(['DATE_BLOCK_NUM', 'SALES'], axis=1)\n",
    "X_test  = data[data.DATE_BLOCK_NUM == 10].drop(['DATE_BLOCK_NUM', 'SALES'], axis=1)\n",
    "\n",
    "y_train = data[data.DATE_BLOCK_NUM < 9]['SALES']\n",
    "y_val   = data[data.DATE_BLOCK_NUM == 9]['SALES']\n",
    "y_test  = data[data.DATE_BLOCK_NUM == 10]['SALES']"
   ]
  },
  {
   "cell_type": "code",
   "execution_count": 39,
   "metadata": {
    "scrolled": false
   },
   "outputs": [
    {
     "name": "stdout",
     "output_type": "stream",
     "text": [
      "[0]\tvalidation_0-mae:5239.37647\tvalidation_1-mae:3225.78101\n",
      "[1]\tvalidation_0-mae:3903.24292\tvalidation_1-mae:2503.62329\n",
      "[2]\tvalidation_0-mae:3109.99072\tvalidation_1-mae:2665.52808\n",
      "[3]\tvalidation_0-mae:2656.58960\tvalidation_1-mae:3089.18408\n",
      "[4]\tvalidation_0-mae:2399.36597\tvalidation_1-mae:3566.92041\n",
      "[5]\tvalidation_0-mae:2266.32983\tvalidation_1-mae:3931.23242\n",
      "[6]\tvalidation_0-mae:2199.77222\tvalidation_1-mae:4179.37109\n",
      "[7]\tvalidation_0-mae:2164.41284\tvalidation_1-mae:4342.19482\n",
      "[8]\tvalidation_0-mae:2136.76147\tvalidation_1-mae:4459.23340\n",
      "[9]\tvalidation_0-mae:2120.52197\tvalidation_1-mae:4548.27246\n",
      "[10]\tvalidation_0-mae:2113.77026\tvalidation_1-mae:4601.28467\n",
      "[11]\tvalidation_0-mae:2115.86597\tvalidation_1-mae:4659.22803\n",
      "[12]\tvalidation_0-mae:2110.15820\tvalidation_1-mae:4703.54541\n",
      "[13]\tvalidation_0-mae:2108.65503\tvalidation_1-mae:4725.61328\n",
      "[14]\tvalidation_0-mae:2105.16260\tvalidation_1-mae:4733.19482\n",
      "[15]\tvalidation_0-mae:2097.33472\tvalidation_1-mae:4735.11279\n",
      "[16]\tvalidation_0-mae:2091.70557\tvalidation_1-mae:4752.17969\n",
      "[17]\tvalidation_0-mae:2086.21362\tvalidation_1-mae:4755.33496\n",
      "[18]\tvalidation_0-mae:2084.39600\tvalidation_1-mae:4756.49609\n",
      "[19]\tvalidation_0-mae:2079.90210\tvalidation_1-mae:4754.22363\n",
      "[20]\tvalidation_0-mae:2072.44824\tvalidation_1-mae:4763.44727\n",
      "[21]\tvalidation_0-mae:2057.60156\tvalidation_1-mae:4755.83545\n",
      "[22]\tvalidation_0-mae:2053.19482\tvalidation_1-mae:4763.26709\n",
      "[23]\tvalidation_0-mae:2038.63904\tvalidation_1-mae:4761.71533\n",
      "[24]\tvalidation_0-mae:2029.87769\tvalidation_1-mae:4764.37793\n",
      "[25]\tvalidation_0-mae:2023.16052\tvalidation_1-mae:4766.68115\n",
      "[26]\tvalidation_0-mae:2017.35828\tvalidation_1-mae:4764.90137\n",
      "[27]\tvalidation_0-mae:2008.23779\tvalidation_1-mae:4768.00586\n",
      "[28]\tvalidation_0-mae:2001.21728\tvalidation_1-mae:4766.64990\n",
      "[29]\tvalidation_0-mae:1981.05359\tvalidation_1-mae:4763.06348\n",
      "[30]\tvalidation_0-mae:1969.92871\tvalidation_1-mae:4772.20459\n",
      "[31]\tvalidation_0-mae:1963.38562\tvalidation_1-mae:4769.16602\n",
      "[32]\tvalidation_0-mae:1952.42371\tvalidation_1-mae:4752.36670\n",
      "[33]\tvalidation_0-mae:1951.82227\tvalidation_1-mae:4753.17871\n",
      "[34]\tvalidation_0-mae:1950.46252\tvalidation_1-mae:4754.95361\n",
      "[35]\tvalidation_0-mae:1938.09973\tvalidation_1-mae:4746.88818\n",
      "[36]\tvalidation_0-mae:1932.03088\tvalidation_1-mae:4748.05420\n",
      "[37]\tvalidation_0-mae:1919.59717\tvalidation_1-mae:4744.66504\n",
      "[38]\tvalidation_0-mae:1903.31934\tvalidation_1-mae:4745.08447\n",
      "[39]\tvalidation_0-mae:1895.34851\tvalidation_1-mae:4737.66553\n",
      "[40]\tvalidation_0-mae:1886.45776\tvalidation_1-mae:4733.82324\n",
      "[41]\tvalidation_0-mae:1879.10303\tvalidation_1-mae:4733.19238\n",
      "[42]\tvalidation_0-mae:1874.37647\tvalidation_1-mae:4735.76758\n",
      "[43]\tvalidation_0-mae:1865.32336\tvalidation_1-mae:4742.89941\n",
      "[44]\tvalidation_0-mae:1859.15466\tvalidation_1-mae:4743.99121\n",
      "[45]\tvalidation_0-mae:1852.66748\tvalidation_1-mae:4741.40430\n",
      "[46]\tvalidation_0-mae:1841.45727\tvalidation_1-mae:4733.86182\n",
      "[47]\tvalidation_0-mae:1830.46643\tvalidation_1-mae:4740.98926\n",
      "[48]\tvalidation_0-mae:1819.40735\tvalidation_1-mae:4745.72363\n",
      "[49]\tvalidation_0-mae:1815.81067\tvalidation_1-mae:4744.87647\n",
      "[50]\tvalidation_0-mae:1809.48389\tvalidation_1-mae:4738.69824\n",
      "[51]\tvalidation_0-mae:1800.30981\tvalidation_1-mae:4737.68945\n",
      "[52]\tvalidation_0-mae:1794.60962\tvalidation_1-mae:4743.15332\n",
      "[53]\tvalidation_0-mae:1785.26685\tvalidation_1-mae:4739.91992\n",
      "[54]\tvalidation_0-mae:1782.24670\tvalidation_1-mae:4741.61914\n",
      "[55]\tvalidation_0-mae:1775.15039\tvalidation_1-mae:4736.67236\n",
      "[56]\tvalidation_0-mae:1762.88342\tvalidation_1-mae:4739.70020\n",
      "[57]\tvalidation_0-mae:1761.70386\tvalidation_1-mae:4739.59131\n",
      "[58]\tvalidation_0-mae:1756.10632\tvalidation_1-mae:4745.36182\n",
      "[59]\tvalidation_0-mae:1748.49646\tvalidation_1-mae:4751.55615\n",
      "[60]\tvalidation_0-mae:1743.00574\tvalidation_1-mae:4757.70215\n",
      "[61]\tvalidation_0-mae:1734.07165\tvalidation_1-mae:4754.53027\n",
      "[62]\tvalidation_0-mae:1727.48047\tvalidation_1-mae:4758.87305\n",
      "[63]\tvalidation_0-mae:1721.15942\tvalidation_1-mae:4758.54785\n",
      "[64]\tvalidation_0-mae:1716.12842\tvalidation_1-mae:4758.28369\n",
      "[65]\tvalidation_0-mae:1711.37036\tvalidation_1-mae:4760.37402\n",
      "[66]\tvalidation_0-mae:1706.30835\tvalidation_1-mae:4758.14062\n",
      "[67]\tvalidation_0-mae:1703.52747\tvalidation_1-mae:4759.65772\n",
      "[68]\tvalidation_0-mae:1700.08789\tvalidation_1-mae:4763.76660\n",
      "[69]\tvalidation_0-mae:1697.27210\tvalidation_1-mae:4764.71728\n",
      "[70]\tvalidation_0-mae:1692.62695\tvalidation_1-mae:4760.29492\n",
      "[71]\tvalidation_0-mae:1686.41370\tvalidation_1-mae:4761.98535\n",
      "[72]\tvalidation_0-mae:1673.78064\tvalidation_1-mae:4756.93848\n",
      "[73]\tvalidation_0-mae:1668.33240\tvalidation_1-mae:4754.86572\n",
      "[74]\tvalidation_0-mae:1664.55737\tvalidation_1-mae:4750.12158\n",
      "[75]\tvalidation_0-mae:1662.08093\tvalidation_1-mae:4750.71875\n",
      "[76]\tvalidation_0-mae:1658.63477\tvalidation_1-mae:4750.96973\n",
      "[77]\tvalidation_0-mae:1657.02722\tvalidation_1-mae:4752.08301\n",
      "[78]\tvalidation_0-mae:1651.82019\tvalidation_1-mae:4751.17773\n",
      "[79]\tvalidation_0-mae:1646.33264\tvalidation_1-mae:4751.21777\n",
      "[80]\tvalidation_0-mae:1636.70361\tvalidation_1-mae:4748.87744\n",
      "[81]\tvalidation_0-mae:1635.20447\tvalidation_1-mae:4749.94287\n",
      "[82]\tvalidation_0-mae:1630.39001\tvalidation_1-mae:4749.36328\n",
      "[83]\tvalidation_0-mae:1623.36475\tvalidation_1-mae:4749.98535\n",
      "[84]\tvalidation_0-mae:1615.13049\tvalidation_1-mae:4747.92480\n",
      "[85]\tvalidation_0-mae:1603.87134\tvalidation_1-mae:4740.15674\n",
      "[86]\tvalidation_0-mae:1600.27026\tvalidation_1-mae:4745.70801\n",
      "[87]\tvalidation_0-mae:1598.16467\tvalidation_1-mae:4747.55664\n",
      "[88]\tvalidation_0-mae:1594.36316\tvalidation_1-mae:4749.87549\n",
      "[89]\tvalidation_0-mae:1587.57092\tvalidation_1-mae:4752.83008\n",
      "[90]\tvalidation_0-mae:1580.05798\tvalidation_1-mae:4753.01904\n",
      "[91]\tvalidation_0-mae:1575.86060\tvalidation_1-mae:4750.25635\n",
      "[92]\tvalidation_0-mae:1573.63000\tvalidation_1-mae:4751.56641\n",
      "[93]\tvalidation_0-mae:1573.30127\tvalidation_1-mae:4751.42969\n",
      "[94]\tvalidation_0-mae:1571.17236\tvalidation_1-mae:4753.08496\n",
      "[95]\tvalidation_0-mae:1568.60584\tvalidation_1-mae:4755.03418\n",
      "[96]\tvalidation_0-mae:1563.54321\tvalidation_1-mae:4759.64258\n",
      "[97]\tvalidation_0-mae:1557.30444\tvalidation_1-mae:4752.90332\n",
      "[98]\tvalidation_0-mae:1551.13940\tvalidation_1-mae:4755.27930\n",
      "[99]\tvalidation_0-mae:1548.13123\tvalidation_1-mae:4757.55273\n",
      "Wall time: 4.65 s\n"
     ]
    },
    {
     "data": {
      "text/plain": [
       "XGBRegressor(base_score=0.5, booster='gbtree', colsample_bylevel=1,\n",
       "             colsample_bynode=1, colsample_bytree=1, gamma=0, gpu_id=-1,\n",
       "             importance_type='gain', interaction_constraints='',\n",
       "             learning_rate=0.300000012, max_delta_step=0, max_depth=6,\n",
       "             min_child_weight=1, missing=nan, monotone_constraints='()',\n",
       "             n_estimators=100, n_jobs=0, num_parallel_tree=1, random_state=0,\n",
       "             reg_alpha=0, reg_lambda=1, scale_pos_weight=1, subsample=1,\n",
       "             tree_method='exact', validate_parameters=1, verbosity=None)"
      ]
     },
     "execution_count": 39,
     "metadata": {},
     "output_type": "execute_result"
    }
   ],
   "source": [
    "%%time\n",
    "\n",
    "xgb_model = xgb.XGBRegressor()\n",
    "\n",
    "xgb_model.fit(X_train, y_train, \n",
    "              eval_metric='mae', \n",
    "              eval_set=[(X_train, y_train), (X_val, y_val)],\n",
    "              verbose=True)"
   ]
  },
  {
   "cell_type": "code",
   "execution_count": 40,
   "metadata": {},
   "outputs": [
    {
     "data": {
      "text/plain": [
       "38.32289116349277"
      ]
     },
     "execution_count": 40,
     "metadata": {},
     "output_type": "execute_result"
    }
   ],
   "source": [
    "metric(y_test, xgb_model.predict(X_test))"
   ]
  }
 ],
 "metadata": {
  "kernelspec": {
   "display_name": "Python 3",
   "language": "python",
   "name": "python3"
  },
  "language_info": {
   "codemirror_mode": {
    "name": "ipython",
    "version": 3
   },
   "file_extension": ".py",
   "mimetype": "text/x-python",
   "name": "python",
   "nbconvert_exporter": "python",
   "pygments_lexer": "ipython3",
   "version": "3.7.7"
  }
 },
 "nbformat": 4,
 "nbformat_minor": 4
}
