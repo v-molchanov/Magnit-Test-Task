{
 "cells": [
  {
   "cell_type": "code",
   "execution_count": 1,
   "metadata": {},
   "outputs": [],
   "source": [
    "import pandas as pd\n",
    "import datetime\n",
    "import mysql.connector\n",
    "from mysql.connector import errorcode"
   ]
  },
  {
   "cell_type": "code",
   "execution_count": 2,
   "metadata": {
    "scrolled": true
   },
   "outputs": [
    {
     "data": {
      "text/html": [
       "<div>\n",
       "<style scoped>\n",
       "    .dataframe tbody tr th:only-of-type {\n",
       "        vertical-align: middle;\n",
       "    }\n",
       "\n",
       "    .dataframe tbody tr th {\n",
       "        vertical-align: top;\n",
       "    }\n",
       "\n",
       "    .dataframe thead th {\n",
       "        text-align: right;\n",
       "    }\n",
       "</style>\n",
       "<table border=\"1\" class=\"dataframe\">\n",
       "  <thead>\n",
       "    <tr style=\"text-align: right;\">\n",
       "      <th></th>\n",
       "      <th>ФИО</th>\n",
       "      <th>Расписание</th>\n",
       "      <th>Дата начала расписания</th>\n",
       "      <th>Дата окончания расписания</th>\n",
       "    </tr>\n",
       "  </thead>\n",
       "  <tbody>\n",
       "    <tr>\n",
       "      <th>0</th>\n",
       "      <td>Поставщик 1</td>\n",
       "      <td>дддвсвнн</td>\n",
       "      <td>01.01.2019 0:00</td>\n",
       "      <td>10.01.2019 0:00</td>\n",
       "    </tr>\n",
       "    <tr>\n",
       "      <th>1</th>\n",
       "      <td>Поставщик 1</td>\n",
       "      <td>ннвннв</td>\n",
       "      <td>11.01.2019 0:00</td>\n",
       "      <td>15.01.2019 0:00</td>\n",
       "    </tr>\n",
       "    <tr>\n",
       "      <th>2</th>\n",
       "      <td>Поставщик 1</td>\n",
       "      <td>св</td>\n",
       "      <td>16.01.2019 0:00</td>\n",
       "      <td>20.01.2019 0:00</td>\n",
       "    </tr>\n",
       "    <tr>\n",
       "      <th>3</th>\n",
       "      <td>Поставщик 2</td>\n",
       "      <td>свсвсв</td>\n",
       "      <td>01.01.2019 0:00</td>\n",
       "      <td>07.01.2019 0:00</td>\n",
       "    </tr>\n",
       "    <tr>\n",
       "      <th>4</th>\n",
       "      <td>Поставщик 2</td>\n",
       "      <td>днвсв</td>\n",
       "      <td>08.01.2019 0:00</td>\n",
       "      <td>14.01.2019 0:00</td>\n",
       "    </tr>\n",
       "    <tr>\n",
       "      <th>5</th>\n",
       "      <td>Поставщик 2</td>\n",
       "      <td>ннддвсв</td>\n",
       "      <td>15.01.2019 0:00</td>\n",
       "      <td>31.12.9999 0:00</td>\n",
       "    </tr>\n",
       "    <tr>\n",
       "      <th>6</th>\n",
       "      <td>Поставщик 3</td>\n",
       "      <td>нвнвнв</td>\n",
       "      <td>01.01.2019 0:00</td>\n",
       "      <td>01.02.2019 0:00</td>\n",
       "    </tr>\n",
       "    <tr>\n",
       "      <th>7</th>\n",
       "      <td>Поставщик 3</td>\n",
       "      <td>двдвдвдв</td>\n",
       "      <td>02.02.2019 0:00</td>\n",
       "      <td>31.12.9999 0:00</td>\n",
       "    </tr>\n",
       "  </tbody>\n",
       "</table>\n",
       "</div>"
      ],
      "text/plain": [
       "           ФИО Расписание Дата начала расписания Дата окончания расписания\n",
       "0  Поставщик 1   дддвсвнн        01.01.2019 0:00           10.01.2019 0:00\n",
       "1  Поставщик 1     ннвннв        11.01.2019 0:00           15.01.2019 0:00\n",
       "2  Поставщик 1         св        16.01.2019 0:00           20.01.2019 0:00\n",
       "3  Поставщик 2     свсвсв        01.01.2019 0:00           07.01.2019 0:00\n",
       "4  Поставщик 2      днвсв        08.01.2019 0:00           14.01.2019 0:00\n",
       "5  Поставщик 2    ннддвсв        15.01.2019 0:00           31.12.9999 0:00\n",
       "6  Поставщик 3     нвнвнв        01.01.2019 0:00           01.02.2019 0:00\n",
       "7  Поставщик 3   двдвдвдв        02.02.2019 0:00           31.12.9999 0:00"
      ]
     },
     "execution_count": 2,
     "metadata": {},
     "output_type": "execute_result"
    }
   ],
   "source": [
    "schedulers_df = pd.read_csv('schedulers.csv', encoding='cp1251', sep=';')\n",
    "schedulers_df.head(10)"
   ]
  },
  {
   "cell_type": "code",
   "execution_count": 3,
   "metadata": {
    "scrolled": true
   },
   "outputs": [
    {
     "name": "stdout",
     "output_type": "stream",
     "text": [
      "<class 'pandas.core.frame.DataFrame'>\n",
      "RangeIndex: 8 entries, 0 to 7\n",
      "Data columns (total 4 columns):\n",
      " #   Column                     Non-Null Count  Dtype \n",
      "---  ------                     --------------  ----- \n",
      " 0   ФИО                        8 non-null      object\n",
      " 1   Расписание                 8 non-null      object\n",
      " 2   Дата начала расписания     8 non-null      object\n",
      " 3   Дата окончания расписания  8 non-null      object\n",
      "dtypes: object(4)\n",
      "memory usage: 384.0+ bytes\n"
     ]
    }
   ],
   "source": [
    "schedulers_df.info()"
   ]
  },
  {
   "cell_type": "code",
   "execution_count": 4,
   "metadata": {},
   "outputs": [],
   "source": [
    "MAX_PANDAS_DATETIME_STR = '31.12.2220 0:00'"
   ]
  },
  {
   "cell_type": "code",
   "execution_count": 5,
   "metadata": {
    "scrolled": false
   },
   "outputs": [],
   "source": [
    "schedulers_df = schedulers_df.replace('31.12.9999 0:00', '31.12.2220 0:00')"
   ]
  },
  {
   "cell_type": "code",
   "execution_count": 6,
   "metadata": {},
   "outputs": [],
   "source": [
    "schedulers_df['Дата начала расписания'] = pd.to_datetime(schedulers_df['Дата начала расписания'], format='%d.%m.%Y %H:%M')\n",
    "schedulers_df['Дата окончания расписания'] = pd.to_datetime(schedulers_df['Дата окончания расписания'], format='%d.%m.%Y %H:%M')"
   ]
  },
  {
   "cell_type": "code",
   "execution_count": 7,
   "metadata": {},
   "outputs": [
    {
     "data": {
      "text/html": [
       "<div>\n",
       "<style scoped>\n",
       "    .dataframe tbody tr th:only-of-type {\n",
       "        vertical-align: middle;\n",
       "    }\n",
       "\n",
       "    .dataframe tbody tr th {\n",
       "        vertical-align: top;\n",
       "    }\n",
       "\n",
       "    .dataframe thead th {\n",
       "        text-align: right;\n",
       "    }\n",
       "</style>\n",
       "<table border=\"1\" class=\"dataframe\">\n",
       "  <thead>\n",
       "    <tr style=\"text-align: right;\">\n",
       "      <th></th>\n",
       "      <th>ФИО</th>\n",
       "      <th>Расписание</th>\n",
       "      <th>Дата начала расписания</th>\n",
       "      <th>Дата окончания расписания</th>\n",
       "    </tr>\n",
       "  </thead>\n",
       "  <tbody>\n",
       "    <tr>\n",
       "      <th>0</th>\n",
       "      <td>Поставщик 1</td>\n",
       "      <td>дддвсвнн</td>\n",
       "      <td>2019-01-01</td>\n",
       "      <td>2019-01-10</td>\n",
       "    </tr>\n",
       "    <tr>\n",
       "      <th>1</th>\n",
       "      <td>Поставщик 1</td>\n",
       "      <td>ннвннв</td>\n",
       "      <td>2019-01-11</td>\n",
       "      <td>2019-01-15</td>\n",
       "    </tr>\n",
       "    <tr>\n",
       "      <th>2</th>\n",
       "      <td>Поставщик 1</td>\n",
       "      <td>св</td>\n",
       "      <td>2019-01-16</td>\n",
       "      <td>2019-01-20</td>\n",
       "    </tr>\n",
       "    <tr>\n",
       "      <th>3</th>\n",
       "      <td>Поставщик 2</td>\n",
       "      <td>свсвсв</td>\n",
       "      <td>2019-01-01</td>\n",
       "      <td>2019-01-07</td>\n",
       "    </tr>\n",
       "    <tr>\n",
       "      <th>4</th>\n",
       "      <td>Поставщик 2</td>\n",
       "      <td>днвсв</td>\n",
       "      <td>2019-01-08</td>\n",
       "      <td>2019-01-14</td>\n",
       "    </tr>\n",
       "    <tr>\n",
       "      <th>5</th>\n",
       "      <td>Поставщик 2</td>\n",
       "      <td>ннддвсв</td>\n",
       "      <td>2019-01-15</td>\n",
       "      <td>2220-12-31</td>\n",
       "    </tr>\n",
       "    <tr>\n",
       "      <th>6</th>\n",
       "      <td>Поставщик 3</td>\n",
       "      <td>нвнвнв</td>\n",
       "      <td>2019-01-01</td>\n",
       "      <td>2019-02-01</td>\n",
       "    </tr>\n",
       "    <tr>\n",
       "      <th>7</th>\n",
       "      <td>Поставщик 3</td>\n",
       "      <td>двдвдвдв</td>\n",
       "      <td>2019-02-02</td>\n",
       "      <td>2220-12-31</td>\n",
       "    </tr>\n",
       "  </tbody>\n",
       "</table>\n",
       "</div>"
      ],
      "text/plain": [
       "           ФИО Расписание Дата начала расписания Дата окончания расписания\n",
       "0  Поставщик 1   дддвсвнн             2019-01-01                2019-01-10\n",
       "1  Поставщик 1     ннвннв             2019-01-11                2019-01-15\n",
       "2  Поставщик 1         св             2019-01-16                2019-01-20\n",
       "3  Поставщик 2     свсвсв             2019-01-01                2019-01-07\n",
       "4  Поставщик 2      днвсв             2019-01-08                2019-01-14\n",
       "5  Поставщик 2    ннддвсв             2019-01-15                2220-12-31\n",
       "6  Поставщик 3     нвнвнв             2019-01-01                2019-02-01\n",
       "7  Поставщик 3   двдвдвдв             2019-02-02                2220-12-31"
      ]
     },
     "execution_count": 7,
     "metadata": {},
     "output_type": "execute_result"
    }
   ],
   "source": [
    "schedulers_df"
   ]
  },
  {
   "cell_type": "code",
   "execution_count": 8,
   "metadata": {},
   "outputs": [
    {
     "name": "stdout",
     "output_type": "stream",
     "text": [
      "<class 'pandas.core.frame.DataFrame'>\n",
      "RangeIndex: 8 entries, 0 to 7\n",
      "Data columns (total 4 columns):\n",
      " #   Column                     Non-Null Count  Dtype         \n",
      "---  ------                     --------------  -----         \n",
      " 0   ФИО                        8 non-null      object        \n",
      " 1   Расписание                 8 non-null      object        \n",
      " 2   Дата начала расписания     8 non-null      datetime64[ns]\n",
      " 3   Дата окончания расписания  8 non-null      datetime64[ns]\n",
      "dtypes: datetime64[ns](2), object(2)\n",
      "memory usage: 384.0+ bytes\n"
     ]
    }
   ],
   "source": [
    "schedulers_df.info()"
   ]
  },
  {
   "cell_type": "markdown",
   "metadata": {},
   "source": [
    "# Задание 1"
   ]
  },
  {
   "cell_type": "code",
   "execution_count": 9,
   "metadata": {},
   "outputs": [],
   "source": [
    "# Change for your config\n",
    "user = 'root'\n",
    "password = open('C://Users/Vlad Molchanov/Desktop/db_password.txt', 'r').readline()\n",
    "host = 'localhost'"
   ]
  },
  {
   "cell_type": "code",
   "execution_count": 10,
   "metadata": {},
   "outputs": [],
   "source": [
    "cnx = mysql.connector.connect(user=user, \n",
    "                              password=password,\n",
    "                              host=host)\n",
    "cursor = cnx.cursor()"
   ]
  },
  {
   "cell_type": "code",
   "execution_count": 11,
   "metadata": {},
   "outputs": [],
   "source": [
    "DB_NAME = 'business_python'\n",
    "\n",
    "TABLES = {}\n",
    "\n",
    "TABLES['t_contractor'] = (\n",
    "    \"CREATE TABLE t_contractor (\"\n",
    "    \"id INT NOT NULL PRIMARY KEY AUTO_INCREMENT,\"\n",
    "    \"`name` VARCHAR(45) NOT NULL UNIQUE\"\n",
    "    \")\" )\n",
    "\n",
    "TABLES['t_schedule'] = (\n",
    "    \"CREATE TABLE t_schedule (\"\n",
    "    \"id INT NOT NULL PRIMARY KEY AUTO_INCREMENT,\"\n",
    "    \"`type` VARCHAR(15) NOT NULL UNIQUE\"\n",
    "    \")\" )\n",
    "\n",
    "TABLES['t_contractor_scheduler'] = (\n",
    "    \"CREATE TABLE t_contractor_scheduler (\"\n",
    "    \"contractor_id INT NOT NULL,\"\n",
    "    \"schedule_id INT NOT NULL,\"\n",
    "    \"date_begin DATETIME NOT NULL,\"\n",
    "    \"date_end DATETIME NOT NULL,\"\n",
    "    \"CONSTRAINT check_date_begin CHECK\" \n",
    "    \"(DATEDIFF(date_end, date_begin) > 0),\"\n",
    "    \"FOREIGN KEY (contractor_id)  REFERENCES t_contractor (id) ON DELETE CASCADE,\"\n",
    "    \"PRIMARY KEY (contractor_id, date_begin)\"\n",
    "    \")\" )"
   ]
  },
  {
   "cell_type": "code",
   "execution_count": 12,
   "metadata": {},
   "outputs": [
    {
     "name": "stdout",
     "output_type": "stream",
     "text": [
      "Database business_python does not exists.\n",
      "Database business_python created successfully.\n"
     ]
    }
   ],
   "source": [
    "def create_database(cursor):\n",
    "    try:\n",
    "        cursor.execute(\n",
    "            \"CREATE DATABASE {} DEFAULT CHARACTER SET 'utf8'\".format(DB_NAME))\n",
    "    except mysql.connector.Error as err:\n",
    "        print(\"Failed creating database: {}\".format(err))\n",
    "        exit(1)\n",
    "\n",
    "try:\n",
    "    cursor.execute(\"USE {}\".format(DB_NAME))\n",
    "    \n",
    "except mysql.connector.Error as err:\n",
    "    print(\"Database {} does not exists.\".format(DB_NAME))\n",
    "    \n",
    "    if err.errno == errorcode.ER_BAD_DB_ERROR:\n",
    "        create_database(cursor)\n",
    "        print(\"Database {} created successfully.\".format(DB_NAME))\n",
    "        cnx.database = DB_NAME\n",
    "        \n",
    "    else:\n",
    "        print(err)\n",
    "        exit(1)"
   ]
  },
  {
   "cell_type": "code",
   "execution_count": 13,
   "metadata": {
    "scrolled": true
   },
   "outputs": [
    {
     "name": "stdout",
     "output_type": "stream",
     "text": [
      "Creating table t_contractor: OK\n",
      "Creating table t_schedule: OK\n",
      "Creating table t_contractor_scheduler: OK\n"
     ]
    }
   ],
   "source": [
    "for table_name in TABLES:\n",
    "    table_description = TABLES[table_name]\n",
    "    try:\n",
    "        print(\"Creating table {}: \".format(table_name), end='')\n",
    "        cursor.execute(table_description)\n",
    "        \n",
    "    except mysql.connector.Error as err:\n",
    "        if err.errno == errorcode.ER_TABLE_EXISTS_ERROR:\n",
    "            print(\"already exists.\")\n",
    "        else:\n",
    "            print(err.msg)\n",
    "    else:\n",
    "        print(\"OK\")"
   ]
  },
  {
   "cell_type": "code",
   "execution_count": 14,
   "metadata": {},
   "outputs": [],
   "source": [
    "add_contractor_query = (\"INSERT INTO t_contractor \"\n",
    "                        \"(name) \"\n",
    "                        \"VALUES (%s)\")\n",
    "\n",
    "add_schedule_query = (\"INSERT INTO t_schedule \"\n",
    "                      \"(type) \"\n",
    "                      \"VALUES (%s)\")\n",
    "\n",
    "add_contractor_scheduler_query = (\"INSERT INTO t_contractor_scheduler \"\n",
    "                                  \"(contractor_id, schedule_id, date_begin, date_end) \"\n",
    "                                  \"VALUES (%s, %s, %s, %s)\")"
   ]
  },
  {
   "cell_type": "code",
   "execution_count": 15,
   "metadata": {},
   "outputs": [],
   "source": [
    "select_contractor_id_query = (\"SELECT id FROM t_contractor \"\n",
    "                              \"WHERE name = %s\")\n",
    "\n",
    "select_schedule_id_query = (\"SELECT id FROM t_schedule \"\n",
    "                            \"WHERE type = %s\")"
   ]
  },
  {
   "cell_type": "code",
   "execution_count": 16,
   "metadata": {},
   "outputs": [],
   "source": [
    "def try_add_and_get_id(add_query, select_id_query, data):\n",
    "    try:\n",
    "        cursor.execute(add_query, data)\n",
    "        return cursor.lastrowid\n",
    "        \n",
    "    except:\n",
    "        cursor.execute(select_id_query, data)\n",
    "        return cursor.fetchone()[0]\n",
    "    \n",
    "def check_pandas_date(pandas_date):\n",
    "    if pandas_date == pd.to_datetime(MAX_PANDAS_DATETIME_STR):\n",
    "        pandas_date = datetime.datetime(9999, 12, 31, 0, 0)\n",
    "    \n",
    "    return pandas_date"
   ]
  },
  {
   "cell_type": "code",
   "execution_count": 17,
   "metadata": {},
   "outputs": [],
   "source": [
    "def insert_data_into_database(df):\n",
    "    for row in schedulers_df.iterrows():\n",
    "        row_data = row[1]\n",
    "        \n",
    "        contractor_name = row_data['ФИО']\n",
    "        schedule_type = row_data['Расписание']\n",
    "        date_begin = row_data['Дата начала расписания']\n",
    "        date_end = row_data['Дата окончания расписания']\n",
    "        \n",
    "        data_contractor = (contractor_name,)\n",
    "        data_schedule   = (schedule_type,)\n",
    "        \n",
    "        contractor_id = -1\n",
    "        schedule_id   = -1\n",
    "        \n",
    "        contractor_id = try_add_and_get_id(add_contractor_query, \n",
    "                                           select_contractor_id_query, \n",
    "                                           data_contractor)\n",
    "        \n",
    "        schedule_id   = try_add_and_get_id(add_schedule_query,\n",
    "                                           select_schedule_id_query,\n",
    "                                           data_schedule)\n",
    "        \n",
    "        date_begin = check_pandas_date(date_begin)\n",
    "        date_end   = check_pandas_date(date_end)\n",
    "        \n",
    "        data_contractor_scheduler = (contractor_id, schedule_id, date_begin, date_end,)\n",
    "        cursor.execute(add_contractor_scheduler_query, data_contractor_scheduler)\n",
    "    \n",
    "    cnx.commit()"
   ]
  },
  {
   "cell_type": "code",
   "execution_count": 18,
   "metadata": {},
   "outputs": [],
   "source": [
    "insert_data_into_database(schedulers_df)"
   ]
  },
  {
   "cell_type": "markdown",
   "metadata": {},
   "source": [
    "# Задание 2"
   ]
  },
  {
   "cell_type": "code",
   "execution_count": 19,
   "metadata": {},
   "outputs": [],
   "source": [
    "create_t_contractor_work_day = (\n",
    "    \"CREATE TABLE t_contractor_work_day ( \"\n",
    "    \"id INT NOT NULL PRIMARY KEY AUTO_INCREMENT,\"\n",
    "    \"`name` VARCHAR(45) NOT NULL,\"\n",
    "    \"date_begin DATETIME NOT NULL,\"\n",
    "    \"date_end DATETIME NOT NULL\"\n",
    "    \");\")"
   ]
  },
  {
   "cell_type": "code",
   "execution_count": 20,
   "metadata": {},
   "outputs": [],
   "source": [
    "cursor.execute(create_t_contractor_work_day)"
   ]
  },
  {
   "cell_type": "markdown",
   "metadata": {},
   "source": [
    "# Задание 3"
   ]
  },
  {
   "cell_type": "code",
   "execution_count": 21,
   "metadata": {},
   "outputs": [],
   "source": [
    "work_modes = {'д': [datetime.time(hour=8), datetime.timedelta(hours=12)], \n",
    "              'н': [datetime.time(hour=20), datetime.timedelta(hours=12)],\n",
    "              'с': [datetime.time(hour=8), datetime.timedelta(hours=24)]}"
   ]
  },
  {
   "cell_type": "code",
   "execution_count": 22,
   "metadata": {},
   "outputs": [],
   "source": [
    "add_work_day_query = (\"INSERT INTO t_contractor_work_day \"\n",
    "                      \"(`name`, date_begin, date_end)\"\n",
    "                      \"VALUES (%s, %s, %s)\" )"
   ]
  },
  {
   "cell_type": "code",
   "execution_count": 23,
   "metadata": {},
   "outputs": [],
   "source": [
    "def add_contractor_work_days(date_start, date_finish):\n",
    "    for row in schedulers_df.iterrows():\n",
    "        row_data = row[1]\n",
    "        \n",
    "        contractor_name = row_data['ФИО']\n",
    "        schedule_type = row_data['Расписание']\n",
    "        date_begin = row_data['Дата начала расписания']\n",
    "        date_end = row_data['Дата окончания расписания']\n",
    "        \n",
    "        date_from = max(date_start, date_begin)\n",
    "        date_until = min(date_finish, date_end)\n",
    "        \n",
    "        current_date = date_from\n",
    "        counter = 0\n",
    "        \n",
    "        while current_date <= date_until:\n",
    "            work_mode = schedule_type[counter % len(schedule_type)]\n",
    "            \n",
    "            if work_mode != 'в':\n",
    "                work_datetime_begin = datetime.datetime.combine(current_date.date(),\n",
    "                                                                work_modes[work_mode][0])\n",
    "                \n",
    "                data_work_day = (contractor_name, \n",
    "                                 work_datetime_begin,\n",
    "                                 work_datetime_begin + work_modes[work_mode][1],)\n",
    "                \n",
    "                cursor.execute(add_work_day_query, data_work_day)\n",
    "                \n",
    "            current_date += datetime.timedelta(days=1)\n",
    "            counter += 1\n",
    "            \n",
    "            if current_date > date_until:\n",
    "                break\n",
    "        \n",
    "    cnx.commit()"
   ]
  },
  {
   "cell_type": "code",
   "execution_count": 24,
   "metadata": {},
   "outputs": [],
   "source": [
    "add_contractor_work_days(datetime.datetime(2019, 1, 1, 0, 0), datetime.datetime(2019, 3, 2, 0, 0))"
   ]
  },
  {
   "cell_type": "markdown",
   "metadata": {},
   "source": [
    "# Задание 4"
   ]
  },
  {
   "cell_type": "code",
   "execution_count": 25,
   "metadata": {},
   "outputs": [],
   "source": [
    "contractor_work_day_df = pd.read_sql(\"SELECT * FROM t_contractor_work_day\", cnx)"
   ]
  },
  {
   "cell_type": "markdown",
   "metadata": {},
   "source": [
    "### Выборка содержащая сколько рабочих дней было у каждого поставщика"
   ]
  },
  {
   "cell_type": "code",
   "execution_count": 26,
   "metadata": {},
   "outputs": [],
   "source": [
    "contractor_work_day_count = contractor_work_day_df.groupby('name').count().reset_index()[['name', 'id']]\n",
    "contractor_work_day_count.columns = ['name', 'count']"
   ]
  },
  {
   "cell_type": "code",
   "execution_count": 27,
   "metadata": {
    "scrolled": true
   },
   "outputs": [
    {
     "data": {
      "text/html": [
       "<div>\n",
       "<style scoped>\n",
       "    .dataframe tbody tr th:only-of-type {\n",
       "        vertical-align: middle;\n",
       "    }\n",
       "\n",
       "    .dataframe tbody tr th {\n",
       "        vertical-align: top;\n",
       "    }\n",
       "\n",
       "    .dataframe thead th {\n",
       "        text-align: right;\n",
       "    }\n",
       "</style>\n",
       "<table border=\"1\" class=\"dataframe\">\n",
       "  <thead>\n",
       "    <tr style=\"text-align: right;\">\n",
       "      <th></th>\n",
       "      <th>name</th>\n",
       "      <th>count</th>\n",
       "    </tr>\n",
       "  </thead>\n",
       "  <tbody>\n",
       "    <tr>\n",
       "      <th>0</th>\n",
       "      <td>Поставщик 1</td>\n",
       "      <td>15</td>\n",
       "    </tr>\n",
       "    <tr>\n",
       "      <th>1</th>\n",
       "      <td>Поставщик 2</td>\n",
       "      <td>43</td>\n",
       "    </tr>\n",
       "    <tr>\n",
       "      <th>2</th>\n",
       "      <td>Поставщик 3</td>\n",
       "      <td>31</td>\n",
       "    </tr>\n",
       "  </tbody>\n",
       "</table>\n",
       "</div>"
      ],
      "text/plain": [
       "          name  count\n",
       "0  Поставщик 1     15\n",
       "1  Поставщик 2     43\n",
       "2  Поставщик 3     31"
      ]
     },
     "execution_count": 27,
     "metadata": {},
     "output_type": "execute_result"
    }
   ],
   "source": [
    "contractor_work_day_count"
   ]
  },
  {
   "cell_type": "markdown",
   "metadata": {},
   "source": [
    "### Выборка поставщиков, у которых было больше 10 рабочих дней за январь 2019 года"
   ]
  },
  {
   "cell_type": "code",
   "execution_count": 28,
   "metadata": {},
   "outputs": [],
   "source": [
    "contractors_worked_jan_2019 = contractor_work_day_df[(contractor_work_day_df['date_begin'].dt.month == 1) &\n",
    "                                                     (contractor_work_day_df['date_begin'].dt.year == 2019)]"
   ]
  },
  {
   "cell_type": "code",
   "execution_count": 29,
   "metadata": {
    "scrolled": true
   },
   "outputs": [
    {
     "data": {
      "text/plain": [
       "0    Поставщик 1\n",
       "1    Поставщик 2\n",
       "2    Поставщик 3\n",
       "Name: name, dtype: object"
      ]
     },
     "execution_count": 29,
     "metadata": {},
     "output_type": "execute_result"
    }
   ],
   "source": [
    "(contractors_worked_jan_2019.groupby('name').count() > 10).reset_index()['name']"
   ]
  },
  {
   "cell_type": "markdown",
   "metadata": {},
   "source": [
    "### Выборка поставщиков, кто работал 14, 15 и 16 января 2019 года"
   ]
  },
  {
   "cell_type": "code",
   "execution_count": 30,
   "metadata": {},
   "outputs": [
    {
     "data": {
      "text/plain": [
       "array(['Поставщик 1', 'Поставщик 2', 'Поставщик 3'], dtype=object)"
      ]
     },
     "execution_count": 30,
     "metadata": {},
     "output_type": "execute_result"
    }
   ],
   "source": [
    "contractors_worked_jan_2019[(contractors_worked_jan_2019['date_begin'].dt.day == 14) |\n",
    "                            (contractors_worked_jan_2019['date_begin'].dt.day == 15) |\n",
    "                            (contractors_worked_jan_2019['date_begin'].dt.day == 16)]['name'].unique()"
   ]
  }
 ],
 "metadata": {
  "kernelspec": {
   "display_name": "Python 3",
   "language": "python",
   "name": "python3"
  },
  "language_info": {
   "codemirror_mode": {
    "name": "ipython",
    "version": 3
   },
   "file_extension": ".py",
   "mimetype": "text/x-python",
   "name": "python",
   "nbconvert_exporter": "python",
   "pygments_lexer": "ipython3",
   "version": "3.7.7"
  }
 },
 "nbformat": 4,
 "nbformat_minor": 4
}
